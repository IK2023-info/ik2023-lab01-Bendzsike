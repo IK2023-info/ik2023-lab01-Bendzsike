{
 "cells": [
  {
   "cell_type": "markdown",
   "metadata": {},
   "source": [
    "# Osztályok és objektumok\n",
    "\n",
    "## Funkcionális vs. objektumorientált programozás \n",
    "\n",
    "Az előző mintapéldákban megtanultuk, hogy a `Python` nyelvben milyen fajta változók (számok, karakterláncok, `list`-ek, `dict`-ek) vannak. Ezeket vezérlő utasításokkal (`if`, `for`, `while` ... ) és függvénydefiníciókkal (`def` konstrukció) kombinálva megismerkedtünk a hagyományos programozás alapjaival.\n",
    "\n",
    "Az alábbiakban megismerkedünk a modern kor egyik fő programozási stílusával, melyben nem a műveletek megalkotása áll a középpontban, hanem az egymással kapcsolatban álló programegységek (objektumok) hierarchiájának megtervezése. Ez az [objektumorientált programozás](https://hu.wikipedia.org/wiki/Objektumorient%C3%A1lt_programoz%C3%A1s) paradigmája. A\n",
    "`Python` nyelv alapvetően objektumorientált, a benne szereplő változók és függvények igazából mind objektumok. A korábbi mintanotebookokban $-$ ugyan burkoltan $-$ de már találkoztunk az objektumorientáltság jeleivel. Például voltak olyan függvények, amiket egy változó mögé \".\"-al írva használtunk:\n",
    "```python\n",
    "x=array([1,2,3])\n",
    "x.sum()\n",
    "```\n",
    "Az objektumorientált programozás elsőre kicsit bonyolultnak tűnhet, így ha az alábbi mintapéldákból nem lenne minden fogalom világos, akkor az következő magyar illetve angol nyelvű oldalakon található részletesebb leírások remélhetőleg tisztázzák a felmerülő kérdéseket:\n",
    "<br>\n",
    "Magyar:<br>\n",
    "[ELTE-python dokumentáció](http://nyelvek.inf.elte.hu/leirasok/Python/index.php?chapter=9#section_6)<br>\n",
    "[Ugorj fejest a pythonba](http://people.ubuntu.com/~kelemeng/.ufp3/iterators.html)<br>\n",
    "Angol:<br>\n",
    "[Python3 Object-Oriented Programming](http://www.python-course.eu/python3_object_oriented_programming.php)\n",
    "\n",
    "Az alábbiakban tehát megismerkedünk a `python` nyelv objektumorientált szintaxisával. \n",
    "\n"
   ]
  },
  {
   "cell_type": "markdown",
   "metadata": {},
   "source": [
    "## A `class` konstrukció és példányosítás\n",
    "\n",
    "Az objektumorientált programozásban az objektumok olyan entitások, melyek egyszerre hordoznak adatokat és azokon az adatokon elvégezhető operációkat. Egy objektumot létrehozni egy terv alapján lehet. Az objektumok megtervezésére a `Python` $-$ több más nyelvekhez hasonlóan $-$ a `class` konstrukciót kínálja. A `class` szó magyarul osztályt jelent. Tehát ezentúl, ha azt mondjuk hogy egy osztályt definiálunk, akkor arra gondolunk, hogy készítünk egy tervet. Az osztálydefiníció alapján elkészült dolgokat, azaz objektumokat példányoknak $-$ vagy angol kifejezéssel instance-nak $-$ szokás  hívni. Az alábbi ábrák remélhetőleg a vizuálisan gondolkozók számára is jól illusztrálják a fent bevezetett fogalmakat:"
   ]
  },
  {
   "cell_type": "markdown",
   "metadata": {},
   "source": [
    "<table>\n",
    "<tr>\n",
    "<td style=\"text-align:center; border: 1px solid #ffffff\">**Az osztályok olyanok, mint a tervrajzok:**</td>\n",
    "<td style=\"text-align:center; border: 1px solid #ffffff\">**Az objektumok pedig a tervek alapján elkészült példányok:**</td>\n",
    "</tr>\n",
    "<tr>\n",
    "<td style=\"border: 1px solid #ffffff\"><img src=\"https://ih0.redbubble.net/image.195015615.1073/flat,800x800,075,t.u9.jpg\" width=400></img></td>\n",
    "<td style=\"border: 1px solid #ffffff\"><img src=\"https://nuatexperiment.files.wordpress.com/2011/05/lego-man_0709_acp-syndication_large.jpg\" width=600></img> </td>\n",
    "</tr>\n",
    "</table>\n"
   ]
  },
  {
   "cell_type": "markdown",
   "metadata": {},
   "source": [
    "Lássunk egy konkrét egyszerű példát a `class` konstrukcióra! Definiáljunk egy osztályt! "
   ]
  },
  {
   "cell_type": "code",
   "execution_count": 1,
   "metadata": {
    "collapsed": true
   },
   "outputs": [],
   "source": [
    "class Robot:\n",
    "    '''\n",
    "    Ez egy robot osztály!\n",
    "    Ez az osztály egyelőre nem csinál semmit :( \n",
    "    '''\n",
    "    pass"
   ]
  },
  {
   "cell_type": "markdown",
   "metadata": {},
   "source": [
    "A fenti definícióval létrehoztunk egy `Robot` nevű osztályt! Egyelőre így magában ez az osztály nem sok mindent tud. A definícióban pusztán egy dokumentációs karakterlánc van, illetve egy `pass` kifejezés. A `pass` utasítás nem csinál semmit. Akkor használható, ha szintaktikailag szükség van egy utasításra, de a programban nem kell semmit sem csinálni."
   ]
  },
  {
   "cell_type": "markdown",
   "metadata": {},
   "source": [
    "Hozzunk most létre a fenti osztálydefiníció alapján egy objektumot!"
   ]
  },
  {
   "cell_type": "code",
   "execution_count": 2,
   "metadata": {
    "collapsed": true
   },
   "outputs": [],
   "source": [
    "x = Robot()"
   ]
  },
  {
   "cell_type": "markdown",
   "metadata": {},
   "source": [
    "Tehát most az `x` változónk egy a `Robot` osztályba tartozó objektum! Egy objektumról a `type` függvény segítségével tudjuk eldönteni, hogy milyen osztályba tartozik:"
   ]
  },
  {
   "cell_type": "code",
   "execution_count": 3,
   "metadata": {},
   "outputs": [
    {
     "data": {
      "text/plain": [
       "__main__.Robot"
      ]
     },
     "execution_count": 3,
     "metadata": {},
     "output_type": "execute_result"
    }
   ],
   "source": [
    "type(x)"
   ]
  },
  {
   "cell_type": "markdown",
   "metadata": {},
   "source": [
    "A type függvény tehát közli, hogy az `x` változó egy olyan objektum, ami a `__main__.Robot` osztály alapján példányosodott. Itt a `__main__` pusztán arra utal, hogy a `Robot` osztály ebben a futási környezetben lett definiálva, és nem egy modulból töltöttük be. \n",
    "\n",
    "Vizsgáljuk meg néhány más egyszerű objektum típusát:"
   ]
  },
  {
   "cell_type": "code",
   "execution_count": 4,
   "metadata": {},
   "outputs": [
    {
     "data": {
      "text/plain": [
       "int"
      ]
     },
     "execution_count": 4,
     "metadata": {},
     "output_type": "execute_result"
    }
   ],
   "source": [
    "type(1)"
   ]
  },
  {
   "cell_type": "code",
   "execution_count": 5,
   "metadata": {},
   "outputs": [
    {
     "data": {
      "text/plain": [
       "float"
      ]
     },
     "execution_count": 5,
     "metadata": {},
     "output_type": "execute_result"
    }
   ],
   "source": [
    "type(3.0)"
   ]
  },
  {
   "cell_type": "code",
   "execution_count": 6,
   "metadata": {},
   "outputs": [
    {
     "data": {
      "text/plain": [
       "list"
      ]
     },
     "execution_count": 6,
     "metadata": {},
     "output_type": "execute_result"
    }
   ],
   "source": [
    "type([1,2,3])"
   ]
  },
  {
   "cell_type": "code",
   "execution_count": 7,
   "metadata": {},
   "outputs": [
    {
     "data": {
      "text/plain": [
       "builtin_function_or_method"
      ]
     },
     "execution_count": 7,
     "metadata": {},
     "output_type": "execute_result"
    }
   ],
   "source": [
    "type(abs)"
   ]
  },
  {
   "cell_type": "markdown",
   "metadata": {},
   "source": [
    "Ahogy vártuk, a tizedespont nélül írt szám `int`, a tizedesponttal írt szám `float`, a lista `list`, valamint az abszolút értéket meghatározó `abs` függvény `builtin_function_or_method` típusú."
   ]
  },
  {
   "cell_type": "markdown",
   "metadata": {},
   "source": [
    "Ha egy osztályt egy modulban definiáltunk, akkor a típus hordozni fogja a definiált modul nevét:"
   ]
  },
  {
   "cell_type": "code",
   "execution_count": 8,
   "metadata": {},
   "outputs": [],
   "source": [
    "import numpy # betöltjük a numpy modult"
   ]
  },
  {
   "cell_type": "code",
   "execution_count": 9,
   "metadata": {},
   "outputs": [
    {
     "data": {
      "text/plain": [
       "numpy.ufunc"
      ]
     },
     "execution_count": 9,
     "metadata": {},
     "output_type": "execute_result"
    }
   ],
   "source": [
    "type(numpy.sin) # a numpy-ban definiált sin függvény típusa"
   ]
  },
  {
   "cell_type": "markdown",
   "metadata": {},
   "source": [
    "## Osztályváltozók, attribútumok és metódusok\n",
    "Ahhoz, hogy valami hasznosat tudjunk csinálni az objektumainkkal, a fenti definíciót egészítsük ki egy kicsit!"
   ]
  },
  {
   "cell_type": "code",
   "execution_count": 10,
   "metadata": {
    "collapsed": true
   },
   "outputs": [],
   "source": [
    "class Robot:\n",
    "    '''\n",
    "    Ez egy robot osztály!\n",
    "    A robot születésekor már adhatunk nevet!\n",
    "    A robotot később átnevezhetjük!\n",
    "    Minden robot neve a saját objektumában a name változóban van.\n",
    "    Minden robotot gyártó cég neve a robot_company osztályváltozóban van.\n",
    "    '''\n",
    "\n",
    "    robot_company='ELTE robot company'    \n",
    "    total_number_of_robots_created=0\n",
    "    \n",
    "    def __init__(self,name=None):\n",
    "        \n",
    "        Robot.total_number_of_robots_created+=1\n",
    "        print('Most születik egy robot!')\n",
    "        self.name=name\n",
    "        if name:\n",
    "            print('Ezt a robotot úgy hívják, hogy '+str(name)+' !')\n",
    "        else:\n",
    "            print('Ennek a robotnak még nincs neve... :(')\n",
    "            \n",
    "    def set_name(self,name):\n",
    "        '''\n",
    "        Ezzel a függvénnyel meg tudjuk változtatni a robot nevét.\n",
    "        '''\n",
    "        print('Megváltozott a nevem '+str(name)+'-re!')\n",
    "        self.name=name\n",
    "        "
   ]
  },
  {
   "cell_type": "markdown",
   "metadata": {},
   "source": [
    "Gyártsunk le ebből az osztályból egy példányt!"
   ]
  },
  {
   "cell_type": "code",
   "execution_count": 11,
   "metadata": {},
   "outputs": [
    {
     "name": "stdout",
     "output_type": "stream",
     "text": [
      "Most születik egy robot!\n",
      "Ennek a robotnak még nincs neve... :(\n"
     ]
    }
   ],
   "source": [
    "x=Robot()"
   ]
  },
  {
   "cell_type": "markdown",
   "metadata": {},
   "source": [
    "A fenti osztály már több mindent tud, három fontos dolgot illusztrál.\n",
    "\n",
    "A `robot_company` és a `total_number_of_robots_created` változók az osztály minden példányában elérhető úgynevezett osztályváltozók. Hivatkozhatunk rájuk az osztály nevén keresztül, vagy az osztály egyik példányán keresztül is a \"`.`\" operátorral:"
   ]
  },
  {
   "cell_type": "code",
   "execution_count": 12,
   "metadata": {},
   "outputs": [
    {
     "data": {
      "text/plain": [
       "'ELTE robot company'"
      ]
     },
     "execution_count": 12,
     "metadata": {},
     "output_type": "execute_result"
    }
   ],
   "source": [
    "x.robot_company"
   ]
  },
  {
   "cell_type": "code",
   "execution_count": 13,
   "metadata": {},
   "outputs": [
    {
     "data": {
      "text/plain": [
       "'ELTE robot company'"
      ]
     },
     "execution_count": 13,
     "metadata": {},
     "output_type": "execute_result"
    }
   ],
   "source": [
    "Robot.robot_company"
   ]
  },
  {
   "cell_type": "code",
   "execution_count": 14,
   "metadata": {},
   "outputs": [
    {
     "data": {
      "text/plain": [
       "1"
      ]
     },
     "execution_count": 14,
     "metadata": {},
     "output_type": "execute_result"
    }
   ],
   "source": [
    "Robot.total_number_of_robots_created"
   ]
  },
  {
   "cell_type": "code",
   "execution_count": 15,
   "metadata": {},
   "outputs": [
    {
     "data": {
      "text/plain": [
       "1"
      ]
     },
     "execution_count": 15,
     "metadata": {},
     "output_type": "execute_result"
    }
   ],
   "source": [
    "x.total_number_of_robots_created"
   ]
  },
  {
   "cell_type": "markdown",
   "metadata": {},
   "source": [
    "Ha kell, akkor természetesen meg is változtathatjuk őket:"
   ]
  },
  {
   "cell_type": "code",
   "execution_count": 16,
   "metadata": {
    "collapsed": true
   },
   "outputs": [],
   "source": [
    "Robot.robot_company='KÖZGÁZGÉP'"
   ]
  },
  {
   "cell_type": "code",
   "execution_count": 17,
   "metadata": {},
   "outputs": [
    {
     "data": {
      "text/plain": [
       "'KÖZGÁZGÉP'"
      ]
     },
     "execution_count": 17,
     "metadata": {},
     "output_type": "execute_result"
    }
   ],
   "source": [
    "x.robot_company"
   ]
  },
  {
   "cell_type": "code",
   "execution_count": 18,
   "metadata": {},
   "outputs": [
    {
     "data": {
      "text/plain": [
       "'KÖZGÁZGÉP'"
      ]
     },
     "execution_count": 18,
     "metadata": {},
     "output_type": "execute_result"
    }
   ],
   "source": [
    "Robot.robot_company"
   ]
  },
  {
   "cell_type": "markdown",
   "metadata": {},
   "source": [
    "#### Na de mi az a `self` ??"
   ]
  },
  {
   "cell_type": "markdown",
   "metadata": {},
   "source": [
    "Az `Robot` osztály definiálása során az osztályokhoz függvényeket is rendeltünk a már megszokott `def` szerkezettel. Az osztályokra ható függvényeket az irodalomban szokás metódusoknak, vagy angolul method-nak hívni. Vizsgáljuk meg, mit csinál a `Robot` osztályba definiált két függvény!\n",
    "\n",
    "Először nézzük meg a `set_name` függvényt. Ennek formálisan két bemeneti változója van, a `self` és a `name`. \n",
    "A `name` bemeneti változó ebben a konstrukcióban pontosan úgy viselkedik, mint ahogy ezt más függvényeknél is már megszoktuk.\n",
    "\n",
    "Ezzel ellentétben a `self` szócska speciális. A `self` változó helyére a függvény hívásakor az objektum maga adódik át!\n",
    "\n",
    "Az objektumra vonatkozó metódusokat szintén a \".\" operátorral érhetjük el a következőképpen:"
   ]
  },
  {
   "cell_type": "code",
   "execution_count": 19,
   "metadata": {},
   "outputs": [
    {
     "name": "stdout",
     "output_type": "stream",
     "text": [
      "Megváltozott a nevem Gizi-re!\n"
     ]
    }
   ],
   "source": [
    "x.set_name('Gizi')"
   ]
  },
  {
   "cell_type": "markdown",
   "metadata": {},
   "source": [
    "Azaz nem kell kiírni a `self` helyére az objektum nevét (azt számunkra megteszi a \".\" konstrukció), és elég egyetlen bemenő változó a függvénynek!"
   ]
  },
  {
   "cell_type": "markdown",
   "metadata": {},
   "source": [
    "Az `__init__` függvény egy speciális függvény. Segítségével az objektum létrehozásakor történő dolgokat tudjuk befolyásolni. A fenti példában alapvetően két dolog történik egy `Robot` objektum létrehozásakor. \n",
    "Előszöris eggyel növekszik a `total_number_of_robots_created` osztály változó. Ezentúl, ha az objektum létrehozásánál megadunk egy karakterláncot, akkor azt az objektumra jellemző `name` változóban eltárolja. Ráadásul még kiír pár dolgot annak megfelelően, hogy adtunk-e nevet vagy sem."
   ]
  },
  {
   "cell_type": "markdown",
   "metadata": {},
   "source": [
    "A fent definiált metódusok a `name` objektumváltozót manipulálják. Általában az osztályváltozókon felül az objektumoknak vannak saját objektumváltozói is, amelyeket csak saját maguk birtokolnak, az osztály többi elemei nem. Az objektumváltozókra szintén a \".\"-al tudunk legegyszerűbb esetben hivatkozni. Az objektumváltozókat szokás az objektum attribútumainak nevezni."
   ]
  },
  {
   "cell_type": "code",
   "execution_count": 20,
   "metadata": {},
   "outputs": [
    {
     "data": {
      "text/plain": [
       "'Gizi'"
      ]
     },
     "execution_count": 20,
     "metadata": {},
     "output_type": "execute_result"
    }
   ],
   "source": [
    "x.name"
   ]
  },
  {
   "cell_type": "markdown",
   "metadata": {},
   "source": [
    "Az attribútumok természetszerűen csak az adott objektumra vonatkoznak. Ha egy objektumnak még nincs definiálva az osztálydefinícióban valamilyen attribútuma, akkor azt később is definiálhatjuk!"
   ]
  },
  {
   "cell_type": "code",
   "execution_count": 21,
   "metadata": {
    "collapsed": true
   },
   "outputs": [],
   "source": [
    "x.build_year=2017"
   ]
  },
  {
   "cell_type": "markdown",
   "metadata": {},
   "source": [
    "Természetesen az osztály más objektumai ezek után nem fognak rendelkezni ezzel az attribútummal:"
   ]
  },
  {
   "cell_type": "code",
   "execution_count": 22,
   "metadata": {},
   "outputs": [
    {
     "name": "stdout",
     "output_type": "stream",
     "text": [
      "Most születik egy robot!\n",
      "Ezt a robotot úgy hívják, hogy Malvin !\n"
     ]
    }
   ],
   "source": [
    "y=Robot('Malvin')"
   ]
  },
  {
   "cell_type": "code",
   "execution_count": 23,
   "metadata": {},
   "outputs": [
    {
     "ename": "AttributeError",
     "evalue": "'Robot' object has no attribute 'build_year'",
     "output_type": "error",
     "traceback": [
      "\u001b[0;31m---------------------------------------------------------------------------\u001b[0m",
      "\u001b[0;31mAttributeError\u001b[0m                            Traceback (most recent call last)",
      "\u001b[0;32m<ipython-input-23-01509fea4f07>\u001b[0m in \u001b[0;36m<module>\u001b[0;34m()\u001b[0m\n\u001b[0;32m----> 1\u001b[0;31m \u001b[0my\u001b[0m\u001b[0;34m.\u001b[0m\u001b[0mbuild_year\u001b[0m\u001b[0;34m\u001b[0m\u001b[0m\n\u001b[0m",
      "\u001b[0;31mAttributeError\u001b[0m: 'Robot' object has no attribute 'build_year'"
     ]
    }
   ],
   "source": [
    "y.build_year"
   ]
  },
  {
   "cell_type": "markdown",
   "metadata": {},
   "source": [
    "Egy osztályról vagy egy objektumról a `dir()` függvény segítségével megtudhatjuk, hogy milyen attribútumai, illetve metódusai vannak:"
   ]
  },
  {
   "cell_type": "code",
   "execution_count": 24,
   "metadata": {},
   "outputs": [
    {
     "data": {
      "text/plain": [
       "['__class__',\n",
       " '__delattr__',\n",
       " '__dict__',\n",
       " '__dir__',\n",
       " '__doc__',\n",
       " '__eq__',\n",
       " '__format__',\n",
       " '__ge__',\n",
       " '__getattribute__',\n",
       " '__gt__',\n",
       " '__hash__',\n",
       " '__init__',\n",
       " '__le__',\n",
       " '__lt__',\n",
       " '__module__',\n",
       " '__ne__',\n",
       " '__new__',\n",
       " '__reduce__',\n",
       " '__reduce_ex__',\n",
       " '__repr__',\n",
       " '__setattr__',\n",
       " '__sizeof__',\n",
       " '__str__',\n",
       " '__subclasshook__',\n",
       " '__weakref__',\n",
       " 'robot_company',\n",
       " 'set_name',\n",
       " 'total_number_of_robots_created']"
      ]
     },
     "execution_count": 24,
     "metadata": {},
     "output_type": "execute_result"
    }
   ],
   "source": [
    "dir(Robot)"
   ]
  },
  {
   "cell_type": "code",
   "execution_count": 25,
   "metadata": {},
   "outputs": [
    {
     "data": {
      "text/plain": [
       "['__class__',\n",
       " '__delattr__',\n",
       " '__dict__',\n",
       " '__dir__',\n",
       " '__doc__',\n",
       " '__eq__',\n",
       " '__format__',\n",
       " '__ge__',\n",
       " '__getattribute__',\n",
       " '__gt__',\n",
       " '__hash__',\n",
       " '__init__',\n",
       " '__le__',\n",
       " '__lt__',\n",
       " '__module__',\n",
       " '__ne__',\n",
       " '__new__',\n",
       " '__reduce__',\n",
       " '__reduce_ex__',\n",
       " '__repr__',\n",
       " '__setattr__',\n",
       " '__sizeof__',\n",
       " '__str__',\n",
       " '__subclasshook__',\n",
       " '__weakref__',\n",
       " 'build_year',\n",
       " 'name',\n",
       " 'robot_company',\n",
       " 'set_name',\n",
       " 'total_number_of_robots_created']"
      ]
     },
     "execution_count": 25,
     "metadata": {},
     "output_type": "execute_result"
    }
   ],
   "source": [
    "dir(x)"
   ]
  },
  {
   "cell_type": "code",
   "execution_count": 26,
   "metadata": {},
   "outputs": [
    {
     "data": {
      "text/plain": [
       "['__class__',\n",
       " '__delattr__',\n",
       " '__dict__',\n",
       " '__dir__',\n",
       " '__doc__',\n",
       " '__eq__',\n",
       " '__format__',\n",
       " '__ge__',\n",
       " '__getattribute__',\n",
       " '__gt__',\n",
       " '__hash__',\n",
       " '__init__',\n",
       " '__le__',\n",
       " '__lt__',\n",
       " '__module__',\n",
       " '__ne__',\n",
       " '__new__',\n",
       " '__reduce__',\n",
       " '__reduce_ex__',\n",
       " '__repr__',\n",
       " '__setattr__',\n",
       " '__sizeof__',\n",
       " '__str__',\n",
       " '__subclasshook__',\n",
       " '__weakref__',\n",
       " 'name',\n",
       " 'robot_company',\n",
       " 'set_name',\n",
       " 'total_number_of_robots_created']"
      ]
     },
     "execution_count": 26,
     "metadata": {},
     "output_type": "execute_result"
    }
   ],
   "source": [
    "dir(y)"
   ]
  },
  {
   "cell_type": "markdown",
   "metadata": {},
   "source": [
    "Ahogy azt várjuk, az `y` változóban tárolt robotnak nincs `build_year` attribútuma, a `Robot` osztályból is hiányzik ez az attribútum definíció. \n",
    "Az általunk definiált metódusokon és attribútumokon kívül mind a `Robot` osztály, mind pedig az `x` és `y` objektumok rendelkeznek egy halom `__` -al közrefogott metódussal, lássuk, mik is ezek."
   ]
  },
  {
   "cell_type": "markdown",
   "metadata": {},
   "source": [
    "## Speciális method-ok \n",
    "\n",
    "A fenti `Robot` osztályban láttuk, hogy az objektumok létrehozásakor történő dolgokat az `__init__` speciális metódussal tudjuk befolyásolni. Azt is láttuk a fenti `dir()` függvény hívásoknál, hogy mind a `Robot` osztálynak, mind pedig a létrehozott példányoknak van több más `__`-al közrefogott metódusa. Az ilyen függvények a speciális metódusok.  A [speciális metódusok](http://people.ubuntu.com/~kelemeng/.ufp3/special-method-names.html) egyetlen „specialitása”, hogy ezeket nem közvetlenül hívjuk, hanem a `Python` akkor hívja őket, amikor egy bizonyos szintaxisú utasítást hajtasz végre az osztályon vagy az osztály egy példányán. \n",
    "\n",
    "Lássunk speciális metódusokra egy kicsit komplikáltabb példát:"
   ]
  },
  {
   "cell_type": "code",
   "execution_count": 27,
   "metadata": {
    "collapsed": true
   },
   "outputs": [],
   "source": [
    "class Fifi:\n",
    "    '''\n",
    "    Ez a Fifi osztály, melynek elemeit össze tudjuk\n",
    "    hasonlítani aszerint, hogy milyen hosszú a nevük.\n",
    "    '''    \n",
    "    def __init__(self,name=None):\n",
    "        '''\n",
    "        Inicializáláskor adunk egy nevet\n",
    "        '''\n",
    "        self.name=name    \n",
    "    \n",
    "    def __lt__(self, other):\n",
    "        '''\n",
    "        Ez a függvény lehetővé teszi a < jel használatát.\n",
    "        '''\n",
    "        return len(self.name)<len(other.name)\n",
    "\n",
    "    def __eq__(self, other):\n",
    "        '''\n",
    "        Ez a függvény lehetővé teszi a == jel használatát.\n",
    "        '''\n",
    "        return len(self.name)==len(other.name)\n",
    "\n",
    "    def __gt__(self, other):\n",
    "        '''\n",
    "        Ez a függvény lehetővé teszi a > jel használatát.\n",
    "        '''\n",
    "        return len(self.name)>len(other.name)\n"
   ]
  },
  {
   "cell_type": "markdown",
   "metadata": {},
   "source": [
    "A fent definiált `Fifi` osztály elemeit össze tudjuk hasonlítani a valós számoknál megszokott <, == és > jelek segítségével:"
   ]
  },
  {
   "cell_type": "code",
   "execution_count": 28,
   "metadata": {
    "collapsed": true
   },
   "outputs": [],
   "source": [
    "f=Fifi('bug') "
   ]
  },
  {
   "cell_type": "code",
   "execution_count": 29,
   "metadata": {
    "collapsed": true
   },
   "outputs": [],
   "source": [
    "g=Fifi('bugger')"
   ]
  },
  {
   "cell_type": "code",
   "execution_count": 30,
   "metadata": {},
   "outputs": [
    {
     "data": {
      "text/plain": [
       "False"
      ]
     },
     "execution_count": 30,
     "metadata": {},
     "output_type": "execute_result"
    }
   ],
   "source": [
    "f>g"
   ]
  },
  {
   "cell_type": "markdown",
   "metadata": {},
   "source": [
    "A fenti példa tehát azt illusztrálja, hogy vannak bizonyos speciális függvények, amelyek megmondják, hogy bizonyos megszokott operátorok (például a relációs jelek) hogyan hassanak az általunk létrehozott osztály elemeire. \n",
    "Ezen kívül még sok mindenre lehet használni speciális metódusokat, egy osztály objektumait használhatjuk például:\n",
    "- [függvényekként](http://people.ubuntu.com/~kelemeng/.ufp3/special-method-names.html#acts-like-function), \n",
    "- lehetnek olyan objektumok, melyeken egy [for ciklussal végig lehet menni](http://people.ubuntu.com/~kelemeng/.ufp3/special-method-names.html#acts-like-iterator),\n",
    "- viselkedhetnek úgy, mint [számok vagy más matematikai](http://people.ubuntu.com/~kelemeng/.ufp3/special-method-names.html#acts-like-number) objektumok, \n",
    "- viselkedhetnek úgy, mint [dict](http://people.ubuntu.com/~kelemeng/.ufp3/special-method-names.html#acts-like-dict)ek, azaz kulcsszavakkal indexelhetővé tehetőek.\n",
    "\n",
    "A speciális metódusokról [itt](http://people.ubuntu.com/~kelemeng/.ufp3/special-method-names.html) egy jó összefoglaló található, a rájuk vonatkozó hivatalos Python-dokumentáció pedig [itt](https://docs.python.org/3/reference/datamodel.html) lelhető meg. Magyarul pedig [itt](http://nyelvek.inf.elte.hu/leirasok/Python/index.php?chapter=9#section_6) egy tömörebb referencia anyag."
   ]
  },
  {
   "cell_type": "markdown",
   "metadata": {
    "collapsed": true
   },
   "source": [
    "## Privát és publikus\n",
    "\n",
    "Az osztályok tervezése során sokszor előfordul, hogy bizonyos változók csak az osztály belső működésével kapcsolatosak, és nem szükséges, hogy kívülről hozzáférhetőek legyenek. A `Python` az osztályattribútumok hozzáférhetősége szempontjából három kategóriát különböztet meg:\n",
    "\n",
    "- privát attribútumok szigorúan csak az objektum belső működése során használatosak. Ha egy attribútum neve `__` két aláhúzással kezdődik, akkor az osztály példányainak ezen változói csak az osztály belső függvényei számára érhetőek el. \n",
    "- Védett attribútumok olyan változók, amik ugyan külső felhasználók számára elérhetőek, de nem illik őket használni, csak az osztály alosztályainak definiálása során (az alosztályokat a következő bekezdésben tárgyaljuk). Ha egy változó neve egyetlen `_` aláhúzással kezdődik, akkor védett változónak minősül.  \n",
    "- Publikus attribútumoknak a mindenki számára elérhető változókat nevezik.\n",
    "\n",
    "Lássunk erre a három fajta attribútumra egy-egy példát:"
   ]
  },
  {
   "cell_type": "code",
   "execution_count": 32,
   "metadata": {},
   "outputs": [],
   "source": [
    "class Bigyula():\n",
    "    '''Ez egy bigyula osztály '''\n",
    "    def __init__(self):\n",
    "        self.__priv = \"Én rettentő titkos vagyok.\"\n",
    "        self._prot = \"Én védett vagyok.. de csak ha vigyázol rám.\"\n",
    "        self.pub = \"Velem azt teszel, amit akarsz.\"            \n",
    "    "
   ]
  },
  {
   "cell_type": "code",
   "execution_count": 33,
   "metadata": {
    "collapsed": true
   },
   "outputs": [],
   "source": [
    "bigyo=Bigyula()"
   ]
  },
  {
   "cell_type": "markdown",
   "metadata": {},
   "source": [
    "A publikus és védett attribútumok kívülről hozzáférhetőek:"
   ]
  },
  {
   "cell_type": "code",
   "execution_count": 34,
   "metadata": {},
   "outputs": [
    {
     "data": {
      "text/plain": [
       "'Velem azt teszel, amit akarsz.'"
      ]
     },
     "execution_count": 34,
     "metadata": {},
     "output_type": "execute_result"
    }
   ],
   "source": [
    "bigyo.pub"
   ]
  },
  {
   "cell_type": "code",
   "execution_count": 34,
   "metadata": {},
   "outputs": [
    {
     "data": {
      "text/plain": [
       "'Én védett vagyok.. de csak ha vigyázol rám.'"
      ]
     },
     "execution_count": 34,
     "metadata": {},
     "output_type": "execute_result"
    }
   ],
   "source": [
    "bigyo._prot"
   ]
  },
  {
   "cell_type": "code",
   "execution_count": 35,
   "metadata": {
    "collapsed": true
   },
   "outputs": [],
   "source": [
    "bigyo._prot='ÁÁÁ'"
   ]
  },
  {
   "cell_type": "code",
   "execution_count": 36,
   "metadata": {},
   "outputs": [
    {
     "data": {
      "text/plain": [
       "'ÁÁÁ'"
      ]
     },
     "execution_count": 36,
     "metadata": {},
     "output_type": "execute_result"
    }
   ],
   "source": [
    "bigyo._prot"
   ]
  },
  {
   "cell_type": "markdown",
   "metadata": {},
   "source": [
    "A privát attribútumok már nem:"
   ]
  },
  {
   "cell_type": "code",
   "execution_count": 37,
   "metadata": {},
   "outputs": [
    {
     "ename": "AttributeError",
     "evalue": "'Bigyula' object has no attribute '__priv'",
     "output_type": "error",
     "traceback": [
      "\u001b[0;31m---------------------------------------------------------------------------\u001b[0m",
      "\u001b[0;31mAttributeError\u001b[0m                            Traceback (most recent call last)",
      "\u001b[0;32m<ipython-input-37-59dbf81b5a2e>\u001b[0m in \u001b[0;36m<module>\u001b[0;34m()\u001b[0m\n\u001b[0;32m----> 1\u001b[0;31m \u001b[0mbigyo\u001b[0m\u001b[0;34m.\u001b[0m\u001b[0m__priv\u001b[0m\u001b[0;34m\u001b[0m\u001b[0m\n\u001b[0m",
      "\u001b[0;31mAttributeError\u001b[0m: 'Bigyula' object has no attribute '__priv'"
     ]
    }
   ],
   "source": [
    "bigyo.__priv"
   ]
  },
  {
   "cell_type": "markdown",
   "metadata": {},
   "source": [
    "Természetesen nem csak az attribútumok lehetnek védettek vagy privátok. Az osztályok metódusai is hasonlóan kategorizáltak, rájuk is érvényes az aláhúzásokkal kezdődő nevezési konvenció."
   ]
  },
  {
   "cell_type": "markdown",
   "metadata": {},
   "source": [
    "## Öröklés\n",
    "\n",
    "![](http://www.derekyu.com/tigs/forums/tutorials/gmtut/gmtut-008.png)"
   ]
  },
  {
   "cell_type": "markdown",
   "metadata": {},
   "source": [
    "Az objektumorientált programozás egyik fő absztrakciós előnye az öröklődés. Ennek az a lényege, hogy egy osztályt származtathatunk már korábban megírt osztályokból, akár egyszerre többől is! Ennek az értelmét a fenti kép illusztrálja. Az állatvilágban minden élőlény alapvetően rendelkezik bizonyos közös tulajdonságokkal, a fenti példán ezt az agy jelenléte jelzi (brain=true). Ebből az ősosztályból származik minden állat, közöttük az ember is. Minden alosztálynak meglehetnek a maga sajátosságai, illetve minden alosztály további alosztályokra bomolhat. \n",
    "\n",
    "Lássunk az öröklődésre is egy egyszerű példát! Terjesszük ki a `Robot` osztályt egy `akku` attribútummal és néhány függvénnyel, ami ennek az atribútumnak a kezelését szolgálja."
   ]
  },
  {
   "cell_type": "code",
   "execution_count": 38,
   "metadata": {
    "collapsed": true
   },
   "outputs": [],
   "source": [
    "class AkksisRobot(Robot): # <-- Így mondjuk meg, hogy egy olyan osztály, amit a Robot osztályból származtatunk!\n",
    "    '''\n",
    "    Ez egy akksis robot.\n",
    "    '''\n",
    "    def akkumulator_allasa(self):\n",
    "        '''\n",
    "        Ez a függvény megnézi, hogy van-e akku.\n",
    "        '''\n",
    "        if self.akku:\n",
    "            print('Az akksi '+str(self.akku)+'-t mutat')\n",
    "        else:\n",
    "            print('Nincs akksim.. :( ')\n",
    "    def set_akksi(self,akku=10):\n",
    "        '''\n",
    "        Ez a függvény tesz valamit az akksiba.\n",
    "        '''\n",
    "        self.akku=akku\n",
    "        "
   ]
  },
  {
   "cell_type": "markdown",
   "metadata": {},
   "source": [
    "Tehát az osztálydefinició első sorában zárójelben jelezhetjük, hogy melyik osztályból szeretnénk származtatni az alosztályt.\n",
    "Lássuk, hogy viselkedik egy példány ebből az új robotból!"
   ]
  },
  {
   "cell_type": "code",
   "execution_count": 39,
   "metadata": {},
   "outputs": [
    {
     "name": "stdout",
     "output_type": "stream",
     "text": [
      "Most születik egy robot!\n",
      "Ezt a robotot úgy hívják, hogy Boborján !\n"
     ]
    }
   ],
   "source": [
    "zz=AkksisRobot('Boborján')"
   ]
  },
  {
   "cell_type": "markdown",
   "metadata": {},
   "source": [
    "Figyeljük meg, hogy nem definiáltunk `__init__` függvényt az alosztályba, és ezért az ősosztály `__init__` függvénye hívódik meg az objektum létrehozásakor!\n",
    "\n",
    "A most létrehozott `zz` objektum természetesen rendelkezik a `set_aksi()` és `akkumulator_allasa()` metódusokal."
   ]
  },
  {
   "cell_type": "code",
   "execution_count": 40,
   "metadata": {},
   "outputs": [],
   "source": [
    "zz.set_akksi(42)"
   ]
  },
  {
   "cell_type": "code",
   "execution_count": 41,
   "metadata": {},
   "outputs": [
    {
     "name": "stdout",
     "output_type": "stream",
     "text": [
      "Az akksi 42-t mutat\n"
     ]
    }
   ],
   "source": [
    "zz.akkumulator_allasa()"
   ]
  },
  {
   "cell_type": "markdown",
   "metadata": {},
   "source": [
    "A korábban definiált, `x` objektumban tárolt robot viszont nem rendelkezik ezekkel metódusokkal:"
   ]
  },
  {
   "cell_type": "code",
   "execution_count": 42,
   "metadata": {},
   "outputs": [
    {
     "ename": "AttributeError",
     "evalue": "'Robot' object has no attribute 'akkumulator_allasa'",
     "output_type": "error",
     "traceback": [
      "\u001b[0;31m---------------------------------------------------------------------------\u001b[0m",
      "\u001b[0;31mAttributeError\u001b[0m                            Traceback (most recent call last)",
      "\u001b[0;32m<ipython-input-42-8f1992834119>\u001b[0m in \u001b[0;36m<module>\u001b[0;34m()\u001b[0m\n\u001b[0;32m----> 1\u001b[0;31m \u001b[0mx\u001b[0m\u001b[0;34m.\u001b[0m\u001b[0makkumulator_allasa\u001b[0m\u001b[0;34m(\u001b[0m\u001b[0;34m)\u001b[0m\u001b[0;34m\u001b[0m\u001b[0m\n\u001b[0m",
      "\u001b[0;31mAttributeError\u001b[0m: 'Robot' object has no attribute 'akkumulator_allasa'"
     ]
    }
   ],
   "source": [
    "x.akkumulator_allasa()"
   ]
  },
  {
   "cell_type": "code",
   "execution_count": null,
   "metadata": {
    "collapsed": true
   },
   "outputs": [],
   "source": []
  }
 ],
 "metadata": {
  "hide_input": false,
  "kernelspec": {
   "display_name": "Python 3",
   "language": "python",
   "name": "python3"
  },
  "language_info": {
   "codemirror_mode": {
    "name": "ipython",
    "version": 3
   },
   "file_extension": ".py",
   "mimetype": "text/x-python",
   "name": "python",
   "nbconvert_exporter": "python",
   "pygments_lexer": "ipython3",
   "version": "3.5.2"
  }
 },
 "nbformat": 4,
 "nbformat_minor": 1
}
