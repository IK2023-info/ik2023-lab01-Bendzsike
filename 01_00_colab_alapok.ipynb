{
  "nbformat": 4,
  "nbformat_minor": 0,
  "metadata": {
    "colab": {
      "name": "00_colab_alapok.ipynb",
      "provenance": [],
      "collapsed_sections": []
    },
    "kernelspec": {
      "name": "python3",
      "display_name": "Python 3"
    }
  },
  "cells": [
    {
      "cell_type": "markdown",
      "metadata": {
        "id": "Y13c5aLHKl87"
      },
      "source": [
        "# Cellatípusok\n",
        "\n",
        "Egy Colab interaktív dokumentum cellákból áll, melyek Python kódot vagy [Markdown szintaxis](https://www.markdownguide.org) szerint formatált szöveget tartalmaznak. Ez egy szövegcella. "
      ]
    },
    {
      "cell_type": "code",
      "metadata": {
        "colab": {
          "base_uri": "https://localhost:8080/"
        },
        "id": "OpdbIuhVLaMl",
        "outputId": "d4d6fd88-913c-4a60-accb-1a099d16fe75"
      },
      "source": [
        "# A futtatáshoz nyomja meg a bal lejátszás (play) gombot, vagy klikkeljen a cellára, majd nyomja meg a Shift + Enter billentyűt \n",
        "print('Ez egy kódcella, futtatható.')"
      ],
      "execution_count": 1,
      "outputs": [
        {
          "output_type": "stream",
          "text": [
            "Ez egy kódcella, futtatható.\n"
          ],
          "name": "stdout"
        }
      ]
    },
    {
      "cell_type": "markdown",
      "metadata": {
        "id": "_eM0BEnTL5-p"
      },
      "source": [
        "# Rendszerparancsok\n",
        "\n",
        "A Colab notebook egy virtuális gépben fut, amelyhez közvetlen hozzáférésünk van, így rendszerparancsokat is futtathatunk a VM terminálján. Egy kezdő felkiáltójellel jellezük, hogy a parancs nem a Python értelmezőnek szól, hanem a rendszernek szánjuk. "
      ]
    },
    {
      "cell_type": "code",
      "metadata": {
        "colab": {
          "base_uri": "https://localhost:8080/"
        },
        "id": "5w6tmwhyLz0X",
        "outputId": "d175f809-2ba1-472a-ce7c-321542036f4e"
      },
      "source": [
        "!touch newfile1.txt\n",
        "!echo \"Hello, World!\" > newfile2.txt\n",
        "print('Fájlok listázása\\n')\n",
        "!ls -l\n",
        "print('Munkakönyvtár:\\n')\n",
        "!pwd\n",
        "print('newfile2.txt tartalma\\n')\n",
        "!cat newfile2.txt"
      ],
      "execution_count": 2,
      "outputs": [
        {
          "output_type": "stream",
          "text": [
            "Fájlok listázása\n",
            "\n",
            "total 8\n",
            "-rw-r--r-- 1 root root    0 Feb 17 08:56 newfile1.txt\n",
            "-rw-r--r-- 1 root root   14 Feb 17 08:56 newfile2.txt\n",
            "drwxr-xr-x 1 root root 4096 Feb 10 14:40 sample_data\n",
            "Munkakönyvtár:\n",
            "\n",
            "/content\n",
            "newfile2.txt tartalma\n",
            "\n",
            "Hello, World!\n"
          ],
          "name": "stdout"
        }
      ]
    },
    {
      "cell_type": "code",
      "metadata": {
        "colab": {
          "base_uri": "https://localhost:8080/"
        },
        "id": "a5Rl-tIcNDTC",
        "outputId": "46959092-ee60-4d68-e2b6-b933b7a4aed8"
      },
      "source": [
        "print('Python verzió listázása\\n')\n",
        "!python --version"
      ],
      "execution_count": 3,
      "outputs": [
        {
          "output_type": "stream",
          "text": [
            "Python verzió listázása\n",
            "\n",
            "Python 3.6.9\n"
          ],
          "name": "stdout"
        }
      ]
    },
    {
      "cell_type": "code",
      "metadata": {
        "colab": {
          "base_uri": "https://localhost:8080/"
        },
        "id": "5297l0WANLop",
        "outputId": "824de42d-0f82-4f87-afdf-f43a2563769d"
      },
      "source": [
        "print('A létrehozott txt fájlok törlése\\n')\n",
        "!rm *.txt\n",
        "!ls"
      ],
      "execution_count": 4,
      "outputs": [
        {
          "output_type": "stream",
          "text": [
            "A létrehozott txt fájlok törlése\n",
            "\n",
            "sample_data\n"
          ],
          "name": "stdout"
        }
      ]
    },
    {
      "cell_type": "code",
      "metadata": {
        "id": "LBLviNTyNR6F"
      },
      "source": [
        "print('Python könyvtár telepítése pip-el \\n')\n",
        "!pip install deap"
      ],
      "execution_count": null,
      "outputs": []
    },
    {
      "cell_type": "markdown",
      "metadata": {
        "id": "ycL2P89MNiv2"
      },
      "source": [
        "# Adatok feltöltése és letöltése\n",
        "\n",
        "A Google Colab-ban történő feldolgozáshoz szükséges adatokat feltölthetjük interaktív módon, beköthetjük a Google Drive-et és onnan érjük el ezeket, vagy importálhatunk akár webcímről is. A mentés elvégezhető a Google Drive-ba, vagy az eredményeket tartalmazó fájlokat letölthetjük a böngésző segítségével. "
      ]
    },
    {
      "cell_type": "markdown",
      "metadata": {
        "id": "tIrTgyBZOUNj"
      },
      "source": [
        "## Fájlok feltöltése (a lokális fájlrendszerből)\n",
        "\n",
        "A `files.upload` a feltöltött fájlok gyűjteményét tartalmazza. "
      ]
    },
    {
      "cell_type": "code",
      "metadata": {
        "id": "b7iBDXWBON9h"
      },
      "source": [
        "from google.colab import files\n",
        "\n",
        "uploaded = files.upload()\n",
        "\n",
        "for fn in uploaded.keys():\n",
        "  print('A {length} bájt méretű {name} fájl feltöltődött '.format(\n",
        "      name=fn, length=len(uploaded[fn])))"
      ],
      "execution_count": null,
      "outputs": []
    },
    {
      "cell_type": "markdown",
      "metadata": {
        "id": "LCiuIH4_PeDH"
      },
      "source": [
        "## Fájlok letöltése\n",
        "\n",
        "A `files.download` letölti a fájlokat a  böngészőn keresztül. "
      ]
    },
    {
      "cell_type": "code",
      "metadata": {
        "id": "_V4kNORZOwbD"
      },
      "source": [
        "from google.colab import files\n",
        "import random\n",
        "\n",
        "x = random.choices(range(0, 9), k=20)\n",
        "print(x)\n",
        "\n",
        "with open('szamok.txt', 'w') as f:\n",
        "  f.write(str(x))\n",
        "\n",
        "!cat szamok.txt\n",
        "\n",
        "files.download('szamok.txt')"
      ],
      "execution_count": null,
      "outputs": []
    },
    {
      "cell_type": "markdown",
      "metadata": {
        "id": "_fj-7d7nP8fk"
      },
      "source": [
        "## Google Drive bekötése\n",
        "\n",
        "A Google Drive csatlakoztatható egy hitelesítési kód megadásával, amelyet a  Google-fiókunkal történő bejelentkezés-engedélyezési lépés után kapunk meg. A csatlakoztatás után a Drive-ban lévő fájlok olvashatók és írhatók. "
      ]
    },
    {
      "cell_type": "code",
      "metadata": {
        "id": "Xs-RrV7SPsWm"
      },
      "source": [
        "from google.colab import drive\n",
        "drive.mount('/content/drive')"
      ],
      "execution_count": null,
      "outputs": []
    },
    {
      "cell_type": "code",
      "metadata": {
        "id": "m6Sn2Ay1QQ9_"
      },
      "source": [
        "with open('/content/drive/MyDrive/hello.txt', 'w') as f:\n",
        "  f.write('Hello, Google Drive!')\n",
        "!cat '/content/drive/MyDrive/hello.txt'"
      ],
      "execution_count": null,
      "outputs": []
    },
    {
      "cell_type": "code",
      "metadata": {
        "id": "-QBG_XtoQT-q"
      },
      "source": [
        "drive.flush_and_unmount()\n",
        "print('A végrehajtott változások láthatók a Drive-ban. Ellenőrizze ezeket a drive.google.com címen ')"
      ],
      "execution_count": null,
      "outputs": []
    }
  ]
}