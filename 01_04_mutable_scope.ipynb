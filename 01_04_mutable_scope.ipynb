{
 "cells": [
  {
   "cell_type": "markdown",
   "metadata": {},
   "source": [
    "# Hivatkozások, megváltoztathatóság, láthatóság\n",
    "\n",
    "---"
   ]
  },
  {
   "cell_type": "code",
   "execution_count": 1,
   "metadata": {},
   "outputs": [
    {
     "name": "stdout",
     "output_type": "stream",
     "text": [
      "Populating the interactive namespace from numpy and matplotlib\n"
     ]
    }
   ],
   "source": [
    "%pylab inline"
   ]
  },
  {
   "cell_type": "markdown",
   "metadata": {},
   "source": [
    "## Hivatkozások \n",
    "\n",
    "\n",
    "### Változók viselkedése értékadásnál\n",
    "\n",
    "Hogyan gondoljunk arra, amikor leütjük a következő kifejezést?\n",
    "\n",
    "**`a = 1`**\n",
    "\n",
    "- **`a`** : név \n",
    "- az **`a`** tartalma: hivatkozás (referencia) egy objektumra\n",
    "- 1: maga az objektum, amire hivatkozunk"
   ]
  },
  {
   "cell_type": "code",
   "execution_count": 2,
   "metadata": {
    "collapsed": true
   },
   "outputs": [],
   "source": [
    "a = 1"
   ]
  },
  {
   "cell_type": "markdown",
   "metadata": {},
   "source": [
    "Az `id()` függvénnyel lekérdezhetjük az objektum egyedi azonosítóját."
   ]
  },
  {
   "cell_type": "code",
   "execution_count": 3,
   "metadata": {},
   "outputs": [
    {
     "data": {
      "text/plain": [
       "139776461195808"
      ]
     },
     "execution_count": 3,
     "metadata": {},
     "output_type": "execute_result"
    }
   ],
   "source": [
    "id(a)"
   ]
  },
  {
   "cell_type": "code",
   "execution_count": 4,
   "metadata": {},
   "outputs": [
    {
     "data": {
      "text/plain": [
       "139776461195808"
      ]
     },
     "execution_count": 4,
     "metadata": {},
     "output_type": "execute_result"
    }
   ],
   "source": [
    "id(1)"
   ]
  },
  {
   "cell_type": "markdown",
   "metadata": {},
   "source": [
    "Ha több összetett típusú változót külön hozunk létre, akkor azok mindig különböző objektumokra mutatnak."
   ]
  },
  {
   "cell_type": "code",
   "execution_count": 5,
   "metadata": {},
   "outputs": [
    {
     "data": {
      "text/plain": [
       "(139774089045384, 139774089045320)"
      ]
     },
     "execution_count": 5,
     "metadata": {},
     "output_type": "execute_result"
    }
   ],
   "source": [
    "a=[0,1]\n",
    "b=[0,1]\n",
    "id(a),id(b)"
   ]
  },
  {
   "cell_type": "markdown",
   "metadata": {},
   "source": [
    "Így is."
   ]
  },
  {
   "cell_type": "code",
   "execution_count": 6,
   "metadata": {},
   "outputs": [
    {
     "data": {
      "text/plain": [
       "(139774089247688, 139774094310728)"
      ]
     },
     "execution_count": 6,
     "metadata": {},
     "output_type": "execute_result"
    }
   ],
   "source": [
    "a,b=[0,1],[0,1]\n",
    "id(a),id(b)"
   ]
  },
  {
   "cell_type": "markdown",
   "metadata": {},
   "source": [
    "Leggyakoribb használata az azonosítóknak, hogy az `is` függvénnyel leelenőrizhetjük, hogy két objektum id értéke megegyezik-e. Két objektum azonos-e."
   ]
  },
  {
   "cell_type": "code",
   "execution_count": 7,
   "metadata": {},
   "outputs": [
    {
     "data": {
      "text/plain": [
       "True"
      ]
     },
     "execution_count": 7,
     "metadata": {},
     "output_type": "execute_result"
    }
   ],
   "source": [
    "a is a"
   ]
  },
  {
   "cell_type": "code",
   "execution_count": 8,
   "metadata": {},
   "outputs": [
    {
     "data": {
      "text/plain": [
       "False"
      ]
     },
     "execution_count": 8,
     "metadata": {},
     "output_type": "execute_result"
    }
   ],
   "source": [
    "a is b"
   ]
  },
  {
   "cell_type": "code",
   "execution_count": 9,
   "metadata": {},
   "outputs": [
    {
     "data": {
      "text/plain": [
       "False"
      ]
     },
     "execution_count": 9,
     "metadata": {},
     "output_type": "execute_result"
    }
   ],
   "source": [
    "a is [0,1]"
   ]
  },
  {
   "cell_type": "markdown",
   "metadata": {},
   "source": [
    "Trükkös dolgok: Ha nem mentjük el a objektumot, amit éppen most hoztuk létre, a Python újrahasznosítja."
   ]
  },
  {
   "cell_type": "code",
   "execution_count": 10,
   "metadata": {},
   "outputs": [
    {
     "data": {
      "text/plain": [
       "(139774089219912, 139774089219912)"
      ]
     },
     "execution_count": 10,
     "metadata": {},
     "output_type": "execute_result"
    }
   ],
   "source": [
    "id([0,1]),id([0,1])"
   ]
  },
  {
   "cell_type": "markdown",
   "metadata": {},
   "source": [
    "Számok, kis karakterláncok esetén nem feltétlenül kapunk különböző objektumot, ha értéket adunk egy változónak."
   ]
  },
  {
   "cell_type": "code",
   "execution_count": 11,
   "metadata": {},
   "outputs": [
    {
     "data": {
      "text/plain": [
       "(139776461195808, 139776461195808)"
      ]
     },
     "execution_count": 11,
     "metadata": {},
     "output_type": "execute_result"
    }
   ],
   "source": [
    "a=1\n",
    "b=1\n",
    "id(a),id(b)"
   ]
  },
  {
   "cell_type": "code",
   "execution_count": 12,
   "metadata": {},
   "outputs": [
    {
     "data": {
      "text/plain": [
       "(139776439460504, 139776439460504)"
      ]
     },
     "execution_count": 12,
     "metadata": {},
     "output_type": "execute_result"
    }
   ],
   "source": [
    "a='a'\n",
    "b='a'\n",
    "id(a),id(b)"
   ]
  },
  {
   "cell_type": "markdown",
   "metadata": {},
   "source": [
    "Kellően nagy számra/karakterláncra már különbözőt kapunk."
   ]
  },
  {
   "cell_type": "code",
   "execution_count": 13,
   "metadata": {},
   "outputs": [
    {
     "data": {
      "text/plain": [
       "(139774107020592, 139774107020528)"
      ]
     },
     "execution_count": 13,
     "metadata": {},
     "output_type": "execute_result"
    }
   ],
   "source": [
    "a=1000\n",
    "b=1000\n",
    "id(a),id(b)"
   ]
  },
  {
   "cell_type": "code",
   "execution_count": 14,
   "metadata": {},
   "outputs": [
    {
     "data": {
      "text/plain": [
       "(139774090552144, 139774090552144)"
      ]
     },
     "execution_count": 14,
     "metadata": {},
     "output_type": "execute_result"
    }
   ],
   "source": [
    "a='gfuybgnwfewfcewmgcyuwgrc'\n",
    "b='gfuybgnwfewfcewmgcyuwgrc'\n",
    "id(a),id(b)"
   ]
  },
  {
   "cell_type": "markdown",
   "metadata": {},
   "source": [
    "( De például, ha egy sorban csináljuk, akkor már ugyanazt az objektumot kapjuk)"
   ]
  },
  {
   "cell_type": "code",
   "execution_count": 15,
   "metadata": {},
   "outputs": [
    {
     "data": {
      "text/plain": [
       "(139774107020432, 139774107020432)"
      ]
     },
     "execution_count": 15,
     "metadata": {},
     "output_type": "execute_result"
    }
   ],
   "source": [
    "a,b=1000,1000\n",
    "id(a),id(b)"
   ]
  },
  {
   "cell_type": "code",
   "execution_count": 16,
   "metadata": {},
   "outputs": [
    {
     "data": {
      "text/plain": [
       "(139774090551344, 139774090551344)"
      ]
     },
     "execution_count": 16,
     "metadata": {},
     "output_type": "execute_result"
    }
   ],
   "source": [
    "a,b='gfuybgnwfewfcewmgcyuwgrc','gfuybgnwfewfcewmgcyuwgrc'\n",
    "id(a),id(b)"
   ]
  },
  {
   "cell_type": "markdown",
   "metadata": {},
   "source": [
    "#### Összeségében: Az is parancsot összetett típusokra használjuk csak (lista,tuple,array,...) . Ne használuk az is parancsot, vagy az id-t számokkal, ugyanis nem triviális, hogy mi történik!\n",
    "\n",
    "----"
   ]
  },
  {
   "cell_type": "markdown",
   "metadata": {},
   "source": [
    "### Új referenciák létrejötte\n",
    "\n",
    "\n",
    "Mi történik, ha egy új változónak értékadáskor egy előző változót adtok meg értékül?\n",
    "\n",
    "A `sys.getrefcount()` nevű függvény megmondja, hogy egy objektumra hány hivatkozás létezik. (Vigyázzunk, mindig 1-gyel többet mond, mert a meghívása során létrejön még egy új hivatkozás az objektumra!)\n",
    "\n",
    "A következő példában egy **tuple**-t találunk, mert kis **int** számokra túl sok minden hivatkozik, ezért nem lenne szemléletes velük a példa."
   ]
  },
  {
   "cell_type": "code",
   "execution_count": 17,
   "metadata": {},
   "outputs": [
    {
     "name": "stdout",
     "output_type": "stream",
     "text": [
      "Erre az objektumra mutat 'a':  139774090209488\n",
      "2\n",
      "Erre az objektumra mutat 'b':  139774090209488\n",
      "3\n",
      "Most már másik objektumra mutat 'b'!  139774131769016\n",
      "2\n"
     ]
    }
   ],
   "source": [
    "import sys\n",
    "\n",
    "a=(1,)   # létrehozzuk az új (1) objektumot\n",
    "        # 'a'-ba beleírjuk az (1)-re mutató referenciát\n",
    "print(\"Erre az objektumra mutat 'a': \", id(a))\n",
    "print(sys.getrefcount(a))  # 2 referenciát számolunk, mert a függvény megghívásakor is létrejön egy\n",
    "\n",
    "b=a # 'b'-be belekerül egy új referencia, ami ugyanarra az objektumra mutat, az (1)-re\n",
    "print(\"Erre az objektumra mutat 'b': \", id(b))\n",
    "print(sys.getrefcount(a))  # 3 referenciát számolunk, mert már 'b' is az (1)-re mutat\n",
    "\n",
    "b=(1,) # létrehozunk egy új (1) objektumot\n",
    "      # 'b'-be beleírjuk az új (1)-re mutató referenciát\n",
    "print(\"Most már másik objektumra mutat 'b'! \", id(b))\n",
    "print(sys.getrefcount(a))  # 2 referenciát számolunk, mert 'b' már egy másik (1)-es objektumra mutat"
   ]
  },
  {
   "cell_type": "markdown",
   "metadata": {},
   "source": [
    "## Megváltoztathatóság"
   ]
  },
  {
   "cell_type": "markdown",
   "metadata": {},
   "source": [
    "#### Megváltoztathatatlan objektumok: int,float,string,tuple.\n",
    "\n",
    "Amikor a megváltoztathatatlan objektumra mutató változónak új értéket adunk (pl. az integert megnöveljük eggyel), akkor nem az objektumot változtatjuk meg, hanem az eredeti névhez egy új hivatkozást rendelünk, ami most már egy másik objektumra mutat.\n",
    "\n",
    "Az `id()` függvény megadja az objektumok egyedi azonosítóját. A következő példában figyeljük meg, hogy más értéket ad vissza a változtatás után, hiszen az **int** típusú objektum megváltoztathatatlan."
   ]
  },
  {
   "cell_type": "code",
   "execution_count": 18,
   "metadata": {},
   "outputs": [
    {
     "name": "stdout",
     "output_type": "stream",
     "text": [
      "139776461195808\n",
      "139776461195840\n",
      "2\n"
     ]
    }
   ],
   "source": [
    "a=1 # 'a'-ba beleírjuk az 1-re mutató referenciát\n",
    "print(id(a)) \n",
    "a+=1 # 'a'-ba beírjuk a 2-re mutató referenciát\n",
    "print(id(a)) # most másik objektumra mutat az 'a'\n",
    "print(a)"
   ]
  },
  {
   "cell_type": "markdown",
   "metadata": {},
   "source": [
    "#### Megváltoztatható objektumok: lista, array stb.\n",
    "\n",
    "Amikor a megváltoztatható objektumra mutató változónak adunk új értéket, vagy módosítjuk, akkor magát az objektumot módosítjuk, a hivatkozás érintetlen marad.\n",
    "\n",
    "Figyeljük meg, hogy a következő példában a változó módosítása után is ugyanazt az azonosítót adja vissza az `id()` függvény."
   ]
  },
  {
   "cell_type": "code",
   "execution_count": 19,
   "metadata": {},
   "outputs": [
    {
     "name": "stdout",
     "output_type": "stream",
     "text": [
      "140451873502152\n",
      "140451873502152\n",
      "[1, 1]\n"
     ]
    }
   ],
   "source": [
    "a=[1] # a ba beleirjuk az [1] re mutato referenciat\n",
    "print(id(a)) \n",
    "a+=[1]\n",
    "print(id(a)) #ugyanarra az objektumra mutat\n",
    "print(a) # de az objektum megvaltozott"
   ]
  },
  {
   "cell_type": "markdown",
   "metadata": {},
   "source": [
    "### Következmények"
   ]
  },
  {
   "cell_type": "markdown",
   "metadata": {},
   "source": [
    "**Megváltoztathatatlan** objektumok esetén, ha két változó ugyanarra az objektumra mutat, akkor hiába módosítjuk az egyik változót, a másik változatlan marad. \n",
    "\n",
    "Ez természetesen az elvárt viselkedés. Két különböző mennyiség teljesen nyugodtan felveheti ugyanazt az értéket egymástól függetlenül, ennek a későbbi viselkedésüket nem kell befolyásolnia.\n",
    "\n",
    "Azt, hogy két változó ugyanarra az objektumra mutat-e, az `is` művelet segítségével ellenőrizhetjük.\n",
    "\n",
    "<div id=\"immutable2\"></div>"
   ]
  },
  {
   "cell_type": "code",
   "execution_count": 19,
   "metadata": {},
   "outputs": [
    {
     "name": "stdout",
     "output_type": "stream",
     "text": [
      "True\n",
      "False\n",
      "1 3\n"
     ]
    }
   ],
   "source": [
    "#integerrel\n",
    "a=1 # 'a' az 1-re mutat\n",
    "b=a # 'b' is az 1-re mutat, ez egy új referencia\n",
    "print(a is b) # a két változó ugyanarra az objektumra mutat\n",
    "\n",
    "b+=2 # 'b' most már a 3-ra mutat\n",
    "print(a is b) # a két változó már nem ugyanarra az objektumra mutat\n",
    "print(a,b) # 'a' nem változik (megváltoztathatatlan volt!)"
   ]
  },
  {
   "cell_type": "code",
   "execution_count": 20,
   "metadata": {},
   "outputs": [
    {
     "name": "stdout",
     "output_type": "stream",
     "text": [
      "True\n",
      "False\n",
      "a ab\n"
     ]
    }
   ],
   "source": [
    "#stringgel\n",
    "a='a'\n",
    "b=a\n",
    "print(a is b)\n",
    "\n",
    "b+='b'\n",
    "print(a is b)\n",
    "print(a,b)"
   ]
  },
  {
   "cell_type": "code",
   "execution_count": 21,
   "metadata": {},
   "outputs": [
    {
     "name": "stdout",
     "output_type": "stream",
     "text": [
      "True\n",
      "False\n",
      "(1, 2) (1, 2, 2, 3)\n"
     ]
    }
   ],
   "source": [
    "#tuple-lel\n",
    "a=(1,2)\n",
    "b=a\n",
    "print(a is b)\n",
    "\n",
    "b+=(2,3)\n",
    "print(a is b)\n",
    "print(a,b)"
   ]
  },
  {
   "cell_type": "markdown",
   "metadata": {},
   "source": [
    "**Megváltoztatható** objektumok esetén ha két változó ugyanarra az objektumra mutat, akkor az egyik változót módosítva maga az objektum változik meg, tehát a másik változó is meg fog változni!\n",
    "\n",
    "Ezért általában nem szerencsés, ha egy megváltoztatható objektumra több névvel is hivatkozunk. De látni fogjuk, hogy `for` ciklusban és függvényekben előfordul ez az eset, ezért tudni kell mi történik pontosan. <div id=\"mutable1\"></div>"
   ]
  },
  {
   "cell_type": "code",
   "execution_count": 22,
   "metadata": {},
   "outputs": [
    {
     "name": "stdout",
     "output_type": "stream",
     "text": [
      "True\n",
      "True\n",
      "[1, 2, 2, 3] [1, 2, 2, 3]\n"
     ]
    }
   ],
   "source": [
    "#listával\n",
    "a=[1,2] # 'a' az [1,2]-re mutat\n",
    "b=a # 'b' is az [1,2]-re mutat már\n",
    "print(a is b) # a két változó ugyanarra az objektumra mutat\n",
    "\n",
    "b+=[2,3] # megváltoztatom az objektumot\n",
    "print(a is b) # a két változó még mindig ugyanarra az objektumra mutat\n",
    "print(a,b) # mivel az objektum változott meg, de a hivatkozások nem, ezért 'a' is megváltozott!"
   ]
  },
  {
   "cell_type": "code",
   "execution_count": 23,
   "metadata": {},
   "outputs": [
    {
     "name": "stdout",
     "output_type": "stream",
     "text": [
      "True\n",
      "True\n",
      "[3 5] [3 5]\n"
     ]
    }
   ],
   "source": [
    "#array-jel\n",
    "a=array([1,2])\n",
    "b=a\n",
    "print(a is b)\n",
    "\n",
    "b+=array([2,3])\n",
    "print(a is b)\n",
    "print(a,b)"
   ]
  },
  {
   "cell_type": "markdown",
   "metadata": {},
   "source": [
    "No de mi történik, ha ezután `b`-nek új értéket adok, nem csak módosítom? <div id=\"mutable2\"></div>"
   ]
  },
  {
   "cell_type": "code",
   "execution_count": 24,
   "metadata": {},
   "outputs": [
    {
     "name": "stdout",
     "output_type": "stream",
     "text": [
      "True\n",
      "False\n",
      "[1, 2] [2, 3]\n"
     ]
    }
   ],
   "source": [
    "a=[1,2]\n",
    "b=a\n",
    "print (a is b)\n",
    "\n",
    "b=[2,3]\n",
    "print (a is b)\n",
    "print(a,b)"
   ]
  },
  {
   "cell_type": "markdown",
   "metadata": {},
   "source": [
    "Vegyük észre, hogy most viszont 'b' már új objektumra hivatkozik, így 'a' értéke nem változott."
   ]
  },
  {
   "cell_type": "markdown",
   "metadata": {},
   "source": [
    "### For ciklus\n",
    "\n",
    "A végigszaladás közben egy-egy új hivatkozást kapunk az objektumokra!\n",
    "\n"
   ]
  },
  {
   "cell_type": "code",
   "execution_count": 26,
   "metadata": {},
   "outputs": [
    {
     "name": "stdout",
     "output_type": "stream",
     "text": [
      "2, 2\n",
      "4, 4\n",
      "5, 4\n",
      "5, 4\n",
      "4, 5\n",
      "4, 5\n"
     ]
    }
   ],
   "source": [
    "a=[1,2]\n",
    "b=[1,2]\n",
    "print(sys.getrefcount(a),end=', ') # 2, ahogy eddig is láttuk\n",
    "print(sys.getrefcount(b)) # 2, ahogy eddig is láttuk\n",
    "\n",
    "c=[a,a,b,b]\n",
    "print(sys.getrefcount(a),end=', ')# 4, mert c elemei is 'a'-ra és 'b'-re mutatnak\n",
    "print(sys.getrefcount(b)) # 4, mert c elemei is 'a'-ra és 'b'-re mutatnak\n",
    "\n",
    "for elem in c:\n",
    "    print(sys.getrefcount(a),end=', ') # aktuálisra 4+1, másikra továbbra is 4\n",
    "    print(sys.getrefcount(b)) # # aktuálisra 4+1, másikra továbbra is 4"
   ]
  },
  {
   "cell_type": "markdown",
   "metadata": {},
   "source": [
    "#### Következmény megváltoztathatatlan objektumok esetén\n",
    "\n",
    "Ha van egy megváltoztathatatlan objektumokból (pl. int, float) álló listánk (bármi, ami iterálható), akkor a `for` ciklusban a ciklusváltozóként használt elemmel bármit csinálunk, az eredeti lista nem fog megváltozni.\n",
    "\n",
    "A ciklusváltozó ugyanis egy új változó, ami egy új referenciát tartalmaz ugyanarra az objektumra, mint az eredeti változó. Megváltoztathatatlan obektumok esetén a ciklusváltozót nyugodt szívvel módosíthatjuk, mert ekkor egy másik objektumra való hivatkozást fog tartalmazni. (Ugyanaz történik a ciklusváltozóval, mintha a megváltoztathatatlan változók esetére [visszalapozunk](#immutable2).)"
   ]
  },
  {
   "cell_type": "code",
   "execution_count": 27,
   "metadata": {},
   "outputs": [
    {
     "name": "stdout",
     "output_type": "stream",
     "text": [
      "140452173875744, 140452173875904\n",
      "140452173875776, 140452173875936\n",
      "140452173875808, 140452173875968\n",
      "140452173875840, 140452173876000\n"
     ]
    },
    {
     "data": {
      "text/plain": [
       "[1, 2, 3, 4]"
      ]
     },
     "execution_count": 27,
     "metadata": {},
     "output_type": "execute_result"
    }
   ],
   "source": [
    "x=[1,2,3,4]\n",
    "for xi in x:\n",
    "    print(id(xi),end=\", \")\n",
    "    xi+=5\n",
    "    print(id(xi))\n",
    "    # xi egy uj referenciat tartalmaz ugyanarra az objektumra\n",
    "    # mint x adott eleme\n",
    "    # ha xi-t megvaltoztatom akkor nem a szamot valtoztatom meg\n",
    "    # hanem xi-t lecserelem egy masik szamra mutato referenciara\n",
    "    # x elemei meg mindig ugyanarra a szamra mutatnak \n",
    "x"
   ]
  },
  {
   "cell_type": "markdown",
   "metadata": {},
   "source": [
    "*Itt szerintem félrevezető volt az eredeti szöveg.* Megtehetem azt is, hogy a ciklusváltozó segítségével módosítom az eredeti listám elemeit. Mivel az csak megváltoztathatatlan objektumokat tartalmazott, ezért a módosítás után a listában új objektumok lesznek. Ez ismét a [már látott](#immutable2) jelenség."
   ]
  },
  {
   "cell_type": "code",
   "execution_count": 28,
   "metadata": {},
   "outputs": [
    {
     "name": "stdout",
     "output_type": "stream",
     "text": [
      "140452173875744, 140452173875904\n",
      "140452173875776, 140452173875936\n",
      "140452173875808, 140452173875968\n",
      "140452173875840, 140452173876000\n"
     ]
    },
    {
     "data": {
      "text/plain": [
       "[6, 7, 8, 9]"
      ]
     },
     "execution_count": 28,
     "metadata": {},
     "output_type": "execute_result"
    }
   ],
   "source": [
    "x=[1,2,3,4]\n",
    "for i in range(len(x)):\n",
    "    print(id(x[i]),end=\", \")\n",
    "    x[i]+=5\n",
    "    print(id(x[i]))\n",
    "x"
   ]
  },
  {
   "cell_type": "markdown",
   "metadata": {},
   "source": [
    "#### Következmény megváltoztatható objektumok esetén\n",
    "\n",
    "Megváltoztatható objektumok esetén más a helyzet. Az új változót módosítva magát az objektumot változtatjuk meg, tehát az eredeti változó is a megváltoztatott objektumra mutat már. ([Előző eset.](#mutable1))"
   ]
  },
  {
   "cell_type": "code",
   "execution_count": 29,
   "metadata": {},
   "outputs": [
    {
     "name": "stdout",
     "output_type": "stream",
     "text": [
      "140451873520072, 140451873520072\n",
      "140451873520136, 140451873520136\n"
     ]
    },
    {
     "data": {
      "text/plain": [
       "[[1, 2], [1, 2]]"
      ]
     },
     "execution_count": 29,
     "metadata": {},
     "output_type": "execute_result"
    }
   ],
   "source": [
    "x=[[1],[1]]\n",
    "for i in x:\n",
    "    print(id(i),end=\", \")\n",
    "    i+=[2]\n",
    "    print(id(i))\n",
    "x"
   ]
  },
  {
   "cell_type": "markdown",
   "metadata": {},
   "source": [
    "Viszont ha a ciklusváltozónak új értéket adunk, akkor az eredeti lista nem változik, mert a ciklusváltozó az újonnan létrehozott objektumra fog hivatkozni, de a régi listában változatlanok maradtak a hivatkozások. ([Előző eset.](#mutable2))"
   ]
  },
  {
   "cell_type": "code",
   "execution_count": 30,
   "metadata": {},
   "outputs": [
    {
     "name": "stdout",
     "output_type": "stream",
     "text": [
      "140451456813704, 140451458900040\n",
      "140451456793608, 140451458900040\n"
     ]
    },
    {
     "data": {
      "text/plain": [
       "[[1], [1]]"
      ]
     },
     "execution_count": 30,
     "metadata": {},
     "output_type": "execute_result"
    }
   ],
   "source": [
    "x=[[1],[1]]\n",
    "for i in x:\n",
    "    print(id(i),end=\", \")\n",
    "    i=[2]\n",
    "    print(id(i))\n",
    "x"
   ]
  },
  {
   "cell_type": "markdown",
   "metadata": {},
   "source": [
    "### Függvények"
   ]
  },
  {
   "cell_type": "markdown",
   "metadata": {},
   "source": [
    "A függvényekben is új hivatkozast kapunk az argumentumokra. "
   ]
  },
  {
   "cell_type": "code",
   "execution_count": 31,
   "metadata": {},
   "outputs": [
    {
     "name": "stdout",
     "output_type": "stream",
     "text": [
      "2\n",
      "4\n"
     ]
    }
   ],
   "source": [
    "a=[1]\n",
    "print(sys.getrefcount(a)) # 2, ahogy eddig is lattuk\n",
    "\n",
    "def f(x): # itt az egyik\n",
    "    print(sys.getrefcount(x)) # 2-vel tobb\n",
    "\n",
    "f(a) #itt a masik"
   ]
  },
  {
   "cell_type": "markdown",
   "metadata": {},
   "source": [
    "#### Következménye mgeváltoztathatatlan objektumok esetén\n",
    "\n",
    "Ha az argumentum megváltoztathatatlan objektum, akkor a függvényben az argumentummal bármit csinálunk, az eredeti változó nem fog megváltozni!\n",
    "\n",
    "A függvényen belüli változó egy új változó, ami egy új referenciát tartalmaz ugyanarra az objektumra, mint az eredeti változó. Bármit is csinálunk ezzel a referenciával, az eredeti változóval ez semmit sem csinál."
   ]
  },
  {
   "cell_type": "code",
   "execution_count": 32,
   "metadata": {},
   "outputs": [
    {
     "data": {
      "text/plain": [
       "6"
      ]
     },
     "execution_count": 32,
     "metadata": {},
     "output_type": "execute_result"
    }
   ],
   "source": [
    "#int\n",
    "def f(valami):\n",
    "    valami+=1\n",
    "    return\n",
    "\n",
    "x=6\n",
    "f(x)\n",
    "x"
   ]
  },
  {
   "cell_type": "code",
   "execution_count": 33,
   "metadata": {},
   "outputs": [
    {
     "data": {
      "text/plain": [
       "'majom'"
      ]
     },
     "execution_count": 33,
     "metadata": {},
     "output_type": "execute_result"
    }
   ],
   "source": [
    "#string\n",
    "def f(valami):\n",
    "    valami+='fajta'\n",
    "    return\n",
    "\n",
    "x='majom'\n",
    "f(x)\n",
    "x"
   ]
  },
  {
   "cell_type": "code",
   "execution_count": 34,
   "metadata": {},
   "outputs": [
    {
     "data": {
      "text/plain": [
       "(0, 1, 2)"
      ]
     },
     "execution_count": 34,
     "metadata": {},
     "output_type": "execute_result"
    }
   ],
   "source": [
    "#tuple\n",
    "def f(valami):\n",
    "    valami+=(1,2,3)\n",
    "    return\n",
    "\n",
    "x=(0,1,2)\n",
    "f(x)\n",
    "x"
   ]
  },
  {
   "cell_type": "markdown",
   "metadata": {},
   "source": [
    "#### Következménye mgeváltoztatható objektumok esetén\n",
    "\n",
    "Megváltoztatható objektumok esetén más a helyzet. Az új változót megváltoztatva magát az objektumot változtatjuk meg, és nem csak a referenciát írjuk át, tehát az eredeti referencia is már a megváltoztatott objektumra mutat."
   ]
  },
  {
   "cell_type": "code",
   "execution_count": 35,
   "metadata": {},
   "outputs": [
    {
     "name": "stdout",
     "output_type": "stream",
     "text": [
      "140451873401608\n",
      "140451873401608\n"
     ]
    },
    {
     "data": {
      "text/plain": [
       "[0, 1, 2, 4, 5, 6]"
      ]
     },
     "execution_count": 35,
     "metadata": {},
     "output_type": "execute_result"
    }
   ],
   "source": [
    "def f(valami):\n",
    "    valami+=[4,5,6]\n",
    "    return\n",
    "\n",
    "x=[0,1,2]\n",
    "print(id(x))\n",
    "f(x)\n",
    "print(id(x))\n",
    "x"
   ]
  },
  {
   "cell_type": "code",
   "execution_count": 36,
   "metadata": {},
   "outputs": [
    {
     "name": "stdout",
     "output_type": "stream",
     "text": [
      "140451873487808\n",
      "140451873487808\n"
     ]
    },
    {
     "data": {
      "text/plain": [
       "array([5, 6, 7])"
      ]
     },
     "execution_count": 36,
     "metadata": {},
     "output_type": "execute_result"
    }
   ],
   "source": [
    "def f(valami):\n",
    "    valami+=5\n",
    "    return\n",
    "\n",
    "x=array([0,1,2])\n",
    "print(id(x))\n",
    "f(x)\n",
    "print(id(x))\n",
    "x"
   ]
  },
  {
   "cell_type": "markdown",
   "metadata": {},
   "source": [
    "Ha nem módosítás, hanem értékadás történik (mint [korábban](#mutable2)), akkor `ezmostmi` másik objektumra fog hivatkozni."
   ]
  },
  {
   "cell_type": "code",
   "execution_count": 37,
   "metadata": {},
   "outputs": [
    {
     "name": "stdout",
     "output_type": "stream",
     "text": [
      "140451456790600\n",
      "[3, 4, 5] 140451456813448\n",
      "140451456790600\n"
     ]
    },
    {
     "data": {
      "text/plain": [
       "[0, 1, 2]"
      ]
     },
     "execution_count": 37,
     "metadata": {},
     "output_type": "execute_result"
    }
   ],
   "source": [
    "def g(ezmostmi):\n",
    "    ezmostmi=[3,4,5]\n",
    "    print(ezmostmi, id(ezmostmi))\n",
    "\n",
    "x=[0,1,2]\n",
    "print(id(x))\n",
    "g(x)\n",
    "print(id(x))\n",
    "x"
   ]
  },
  {
   "cell_type": "markdown",
   "metadata": {},
   "source": [
    "----\n",
    "\n",
    "## Láthatóság\n",
    "\n",
    "\n",
    "Hol tudjuk használni a létrehozott változókat?\n",
    "\n",
    "----"
   ]
  },
  {
   "cell_type": "markdown",
   "metadata": {},
   "source": [
    "Amit egy függvényen belül hozunk létre (és nem adjuk vissza), az egyszerűen eltűnik."
   ]
  },
  {
   "cell_type": "code",
   "execution_count": 38,
   "metadata": {},
   "outputs": [
    {
     "name": "stdout",
     "output_type": "stream",
     "text": [
      "Itt meg megvolt\n"
     ]
    },
    {
     "ename": "NameError",
     "evalue": "name 'volt_nincs' is not defined",
     "output_type": "error",
     "traceback": [
      "\u001b[1;31m---------------------------------------------------------------------------\u001b[0m",
      "\u001b[1;31mNameError\u001b[0m                                 Traceback (most recent call last)",
      "\u001b[1;32m<ipython-input-38-18cdffe77a7a>\u001b[0m in \u001b[0;36m<module>\u001b[1;34m()\u001b[0m\n\u001b[0;32m      4\u001b[0m \u001b[1;33m\u001b[0m\u001b[0m\n\u001b[0;32m      5\u001b[0m \u001b[0mg\u001b[0m\u001b[1;33m(\u001b[0m\u001b[1;33m)\u001b[0m\u001b[1;33m\u001b[0m\u001b[0m\n\u001b[1;32m----> 6\u001b[1;33m \u001b[0mvolt_nincs\u001b[0m\u001b[1;33m\u001b[0m\u001b[0m\n\u001b[0m",
      "\u001b[1;31mNameError\u001b[0m: name 'volt_nincs' is not defined"
     ]
    }
   ],
   "source": [
    "def g():\n",
    "    volt_nincs='Itt meg megvolt'\n",
    "    print(volt_nincs)\n",
    "    \n",
    "g()\n",
    "volt_nincs"
   ]
  },
  {
   "cell_type": "markdown",
   "metadata": {},
   "source": [
    "Ez a függvényekre is vonatkozik!"
   ]
  },
  {
   "cell_type": "code",
   "execution_count": 39,
   "metadata": {},
   "outputs": [
    {
     "name": "stdout",
     "output_type": "stream",
     "text": [
      "Itt meg megvan\n"
     ]
    },
    {
     "ename": "NameError",
     "evalue": "name 'volt_nincs' is not defined",
     "output_type": "error",
     "traceback": [
      "\u001b[1;31m---------------------------------------------------------------------------\u001b[0m",
      "\u001b[1;31mNameError\u001b[0m                                 Traceback (most recent call last)",
      "\u001b[1;32m<ipython-input-39-dd1d1ad67643>\u001b[0m in \u001b[0;36m<module>\u001b[1;34m()\u001b[0m\n\u001b[0;32m      5\u001b[0m \u001b[1;33m\u001b[0m\u001b[0m\n\u001b[0;32m      6\u001b[0m \u001b[0mg\u001b[0m\u001b[1;33m(\u001b[0m\u001b[1;33m)\u001b[0m\u001b[1;33m\u001b[0m\u001b[0m\n\u001b[1;32m----> 7\u001b[1;33m \u001b[0mvolt_nincs\u001b[0m\u001b[1;33m(\u001b[0m\u001b[1;33m)\u001b[0m\u001b[1;33m\u001b[0m\u001b[0m\n\u001b[0m",
      "\u001b[1;31mNameError\u001b[0m: name 'volt_nincs' is not defined"
     ]
    }
   ],
   "source": [
    "def g():\n",
    "    def volt_nincs():\n",
    "        print('Itt meg megvan')\n",
    "    volt_nincs()\n",
    "    \n",
    "g()\n",
    "volt_nincs()"
   ]
  },
  {
   "cell_type": "markdown",
   "metadata": {},
   "source": [
    "A fejlebb (balrább) definiált változók lejjebb (jobbrább) látszanak!"
   ]
  },
  {
   "cell_type": "code",
   "execution_count": 40,
   "metadata": {},
   "outputs": [
    {
     "name": "stdout",
     "output_type": "stream",
     "text": [
      "latom\n"
     ]
    }
   ],
   "source": [
    "latom='latom'\n",
    "def g():\n",
    "    print(latom)\n",
    "g()"
   ]
  },
  {
   "cell_type": "code",
   "execution_count": 41,
   "metadata": {},
   "outputs": [
    {
     "name": "stdout",
     "output_type": "stream",
     "text": [
      "nana\n"
     ]
    }
   ],
   "source": [
    "def f():\n",
    "    eztislatom='nana'\n",
    "    def g():\n",
    "        print(eztislatom)\n",
    "    g()\n",
    "f()"
   ]
  },
  {
   "cell_type": "markdown",
   "metadata": {},
   "source": [
    "De ha ugyanazt a nevet felhasználjuk argumentumnévként, akkor azzal elfedjük a külső változót."
   ]
  },
  {
   "cell_type": "code",
   "execution_count": 42,
   "metadata": {},
   "outputs": [
    {
     "name": "stdout",
     "output_type": "stream",
     "text": [
      "nem is\n"
     ]
    }
   ],
   "source": [
    "latom='latom'\n",
    "def g(latom):\n",
    "    print(latom)\n",
    "g('nem is')"
   ]
  },
  {
   "cell_type": "markdown",
   "metadata": {},
   "source": [
    "Ha új referenciát rendelünk bármilyen módon a névhez, azzal elfedjük a globális változót.\n",
    "Így nem írhatjuk át a név tartalmát, azaz nem cserélhetjük le a referenciát."
   ]
  },
  {
   "cell_type": "code",
   "execution_count": 43,
   "metadata": {},
   "outputs": [
    {
     "name": "stdout",
     "output_type": "stream",
     "text": [
      "nem is\n"
     ]
    },
    {
     "data": {
      "text/plain": [
       "'latom'"
      ]
     },
     "execution_count": 43,
     "metadata": {},
     "output_type": "execute_result"
    }
   ],
   "source": [
    "latom='latom'\n",
    "def g():\n",
    "    latom='nem is'\n",
    "    print(latom)\n",
    "g()\n",
    "latom"
   ]
  },
  {
   "cell_type": "markdown",
   "metadata": {},
   "source": [
    "Az objektumot, amire mutat, természetesen módosíthatjuk, ha megváltoztatható."
   ]
  },
  {
   "cell_type": "code",
   "execution_count": 44,
   "metadata": {},
   "outputs": [
    {
     "name": "stdout",
     "output_type": "stream",
     "text": [
      "[1, 2, 3, 4]\n"
     ]
    },
    {
     "data": {
      "text/plain": [
       "[1, 2, 3, 4]"
      ]
     },
     "execution_count": 44,
     "metadata": {},
     "output_type": "execute_result"
    }
   ],
   "source": [
    "latom=[1,2,3]\n",
    "def g():\n",
    "    latom.append(4)\n",
    "    print(latom)\n",
    "g()\n",
    "latom"
   ]
  },
  {
   "cell_type": "markdown",
   "metadata": {},
   "source": [
    "Ha külön kérjük, a referenciát is átírhatjuk."
   ]
  },
  {
   "cell_type": "code",
   "execution_count": 45,
   "metadata": {},
   "outputs": [
    {
     "name": "stdout",
     "output_type": "stream",
     "text": [
      "igy igen\n"
     ]
    },
    {
     "data": {
      "text/plain": [
       "'igy igen'"
      ]
     },
     "execution_count": 45,
     "metadata": {},
     "output_type": "execute_result"
    }
   ],
   "source": [
    "latom='latom'\n",
    "def g():\n",
    "    global latom\n",
    "    latom='igy igen'\n",
    "    print(latom)\n",
    "g()\n",
    "latom"
   ]
  },
  {
   "cell_type": "markdown",
   "metadata": {},
   "source": [
    "A függvény definíciója után létrehozott globális nevek is látszanak a függvényben."
   ]
  },
  {
   "cell_type": "code",
   "execution_count": 46,
   "metadata": {},
   "outputs": [
    {
     "name": "stdout",
     "output_type": "stream",
     "text": [
      "nem ugy van az\n"
     ]
    }
   ],
   "source": [
    "def f():\n",
    "    print(hatdeezmegnemisvolthogyhogyhasznalhatom)\n",
    "    \n",
    "hatdeezmegnemisvolthogyhogyhasznalhatom='nem ugy van az'\n",
    "f()"
   ]
  },
  {
   "cell_type": "markdown",
   "metadata": {},
   "source": [
    "A for cikluson belül létrehozott változók azon kívül is látszanak."
   ]
  },
  {
   "cell_type": "code",
   "execution_count": 47,
   "metadata": {},
   "outputs": [
    {
     "data": {
      "text/plain": [
       "'jah'"
      ]
     },
     "execution_count": 47,
     "metadata": {},
     "output_type": "execute_result"
    }
   ],
   "source": [
    "for i in range(3):\n",
    "    eztmindekilatja='jah'\n",
    "eztmindekilatja"
   ]
  },
  {
   "cell_type": "markdown",
   "metadata": {},
   "source": [
    "Tehát for ciklus változója még a for után is látszik!"
   ]
  },
  {
   "cell_type": "code",
   "execution_count": 48,
   "metadata": {},
   "outputs": [
    {
     "data": {
      "text/plain": [
       "2"
      ]
     },
     "execution_count": 48,
     "metadata": {},
     "output_type": "execute_result"
    }
   ],
   "source": [
    "for i in range(3):\n",
    "    eztmindekilatja='jah'\n",
    "i"
   ]
  }
 ],
 "metadata": {
  "anaconda-cloud": {},
  "hide_input": false,
  "kernelspec": {
   "display_name": "Python 3",
   "language": "python",
   "name": "python3"
  },
  "language_info": {
   "codemirror_mode": {
    "name": "ipython",
    "version": 3
   },
   "file_extension": ".py",
   "mimetype": "text/x-python",
   "name": "python",
   "nbconvert_exporter": "python",
   "pygments_lexer": "ipython3",
   "version": "3.5.2"
  }
 },
 "nbformat": 4,
 "nbformat_minor": 1
}
