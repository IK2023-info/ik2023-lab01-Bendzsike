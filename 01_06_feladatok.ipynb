{
  "nbformat": 4,
  "nbformat_minor": 0,
  "metadata": {
    "hide_input": false,
    "kernelspec": {
      "display_name": "Python 3",
      "language": "python",
      "name": "python3"
    },
    "language_info": {
      "codemirror_mode": {
        "name": "ipython",
        "version": 3
      },
      "file_extension": ".py",
      "mimetype": "text/x-python",
      "name": "python",
      "nbconvert_exporter": "python",
      "pygments_lexer": "ipython3",
      "version": "3.7.1"
    },
    "colab": {
      "provenance": [],
      "include_colab_link": true
    }
  },
  "cells": [
    {
      "cell_type": "markdown",
      "metadata": {
        "id": "view-in-github",
        "colab_type": "text"
      },
      "source": [
        "<a href=\"https://colab.research.google.com/github/IK2023-info/ik2023-lab01-Bendzsike/blob/main/01_06_feladatok.ipynb\" target=\"_parent\"><img src=\"https://colab.research.google.com/assets/colab-badge.svg\" alt=\"Open In Colab\"/></a>"
      ]
    },
    {
      "cell_type": "markdown",
      "metadata": {
        "id": "BrjbAqF7dFwX"
      },
      "source": [
        "# Feladatok\n",
        "\n",
        "\n",
        "\n",
        "----\n"
      ]
    },
    {
      "cell_type": "markdown",
      "metadata": {
        "id": "4u3wvRgsdFwa"
      },
      "source": [
        "## 1. Feladat\n",
        "#### Listák - I. \n",
        "\n",
        "Galileo Galilei egyik gondolatát küdték el nekünk SMS-ben, de sajnos hálózati hiba miatt nem sorrendben érkeztek meg a szavak. A következőt olvastuk a telefonunkban:"
      ]
    },
    {
      "cell_type": "code",
      "metadata": {
        "id": "KiIy4GbidFwb"
      },
      "source": [
        "sms=['Szentírás ', 'bölcs ', 'a ', 'már ', 'szükséges ', 'mondhat ', 'biztosak ', 'a ', \n",
        "     'feladata, ', 'Mivel ', 'ellent ', 'a ', 'érzéki ', 'azokkal ', 'következtetésekkel, ',\n",
        "     'a ', 'vagyunk ', 'a ', 'tapasztalataink ', 'szöveg ', 'azon ', 'igazság ', 'sose ',\n",
        "     'ami ', 'hogy ', 'melyekben ', 'kísérletek ', 'megtalálják ', 'által.', 'két ', 'fizikai ',\n",
        "     'egymásnak, ', 'egyezik ', 'és ', 'értelmezőinek ', 'értelmezését, ']"
      ],
      "execution_count": null,
      "outputs": []
    },
    {
      "cell_type": "markdown",
      "metadata": {
        "id": "kRAM2StCdFwf"
      },
      "source": [
        "Később a telefonszolgáltató megtalálta a hiba okát, és elküldte, hogy milyen sorrendben kaptuk meg az eredeti szöveg szavait:"
      ]
    },
    {
      "cell_type": "code",
      "metadata": {
        "id": "YfEx-oA7dFwg"
      },
      "source": [
        "sorrend=[8,9,15,26,33,4,27,11,12,0,5,32,29,21,24,22,28,7,30,16,17,2,3,19,13,25,34,14,35,1,23,6,20,31,10,18]"
      ],
      "execution_count": null,
      "outputs": []
    },
    {
      "cell_type": "markdown",
      "metadata": {
        "id": "sA6gpmXJdFwj"
      },
      "source": [
        "Azaz az általunk megkapott első szó az eredeti szövegben a 8-as indexet viselte, azaz a 9. volt.\n",
        "\n",
        "Írj egy olyan programot, ami helyreállítja az idézetet, valamint össze is fűzi a lista elemeit egy mondattá."
      ]
    },
    {
      "cell_type": "code",
      "source": [
        "sorted = [x for _, x in sorted(zip(sorrend, sms))]\n",
        "' '.join(sorted)"
      ],
      "metadata": {
        "id": "IBIk21IiV2I8",
        "colab": {
          "base_uri": "https://localhost:8080/",
          "height": 54
        },
        "outputId": "93205fbb-8a3f-4ee3-dc5c-d78c3a3812e5"
      },
      "execution_count": null,
      "outputs": [
        {
          "output_type": "execute_result",
          "data": {
            "text/plain": [
              "'Mivel  két  igazság  sose  mondhat  ellent  egymásnak,  a  Szentírás  bölcs  értelmezőinek  a  feladata,  hogy  megtalálják  a  szöveg  azon  értelmezését,  ami  egyezik  azokkal  a  fizikai  következtetésekkel,  melyekben  már  biztosak  vagyunk  érzéki  tapasztalataink  és  a  szükséges  kísérletek  által.'"
            ],
            "application/vnd.google.colaboratory.intrinsic+json": {
              "type": "string"
            }
          },
          "metadata": {},
          "execution_count": 21
        }
      ]
    },
    {
      "cell_type": "markdown",
      "metadata": {
        "id": "trwhokPldFwk"
      },
      "source": [
        "## 2. Feladat\n",
        "\n",
        "#### Dictionary - I.\n",
        "\n",
        "Írjatok egy függvényt, ami a megadott szótár segítségével tetszőleges magyar szöveget angolra fordít!\n",
        "\n",
        "- A fordítás történjen szóról szóra.\n",
        "- Ha ismeretlen szóval találkoztok, akkor csináljátok azt, amit a Google Translator: csak írjátok ki az eredeti szót fordítás nélkül. ( A szöveg többi részét természetesen le kell fordítani.)\n",
        "- Nem baj, ha nyelvtanilag nem helyes vagy értelmetlen a fordítás."
      ]
    },
    {
      "cell_type": "code",
      "metadata": {
        "id": "9tGUdBQndFwl"
      },
      "source": [
        "szotar={'a':'the',\n",
        "        'majom': 'monkey',\n",
        "        'kutya':'dog',\n",
        "        'szereti':'likes',\n",
        "        'banánt':'banana',\n",
        "        'kolbászt':'sausage'}\n",
        "\n",
        "pelda_szoveg='a majom szereti a banánt minden kutya szereti a kolbászt'"
      ],
      "execution_count": null,
      "outputs": []
    },
    {
      "cell_type": "code",
      "source": [
        "def hungarian_to_english(text, dictionary):\n",
        "    words = text.split()\n",
        "    translated = []\n",
        "    for word in words:\n",
        "        if word in dictionary:\n",
        "            translated.append(dictionary[word])\n",
        "        else:\n",
        "            translated.append(word)\n",
        "    result = ' '.join(translated)\n",
        "    return result\n",
        "\n",
        "print(hungarian_to_english(pelda_szoveg, szotar))"
      ],
      "metadata": {
        "colab": {
          "base_uri": "https://localhost:8080/"
        },
        "id": "iGsN_ELLerO2",
        "outputId": "7cbefb1f-d03c-418d-b61e-5582a3c7d2c1"
      },
      "execution_count": null,
      "outputs": [
        {
          "output_type": "stream",
          "name": "stdout",
          "text": [
            "the monkey likes the banana minden dog likes the sausage\n"
          ]
        }
      ]
    },
    {
      "cell_type": "markdown",
      "metadata": {
        "id": "dK---IxJdFwo"
      },
      "source": [
        "## 3. feladat\n",
        "\n",
        "#### Függvények - II.\n",
        "\n",
        "Írj egy függvényt, ami a $$ ax^2+bx+c=0 $$ másodfokú egyenlet (valós és komplex) gyökeit határozza meg. Csak akkor kapjunk eredményként komplex számot, ha a diszkrimináns negatív!\n",
        "\n",
        "Példaként add meg a következő négy egyenlet megoldását:\n",
        "1. $x^2=100$\n",
        "2. $3x^2-25x=10$\n",
        "3. $-4x^2+4x=1$\n",
        "4. $25x^2+16x=-100$"
      ]
    },
    {
      "cell_type": "code",
      "metadata": {
        "id": "iHHzPu_jdFwp"
      },
      "source": [
        "def masodfoku(a,b,c):\n",
        "    discriminant = (b ** 2) - (4 * a * c)\n",
        "    sqrt_discriminant = cmath.sqrt(discriminant)\n",
        "\n",
        "    if discriminant >= 0:\n",
        "        x1 = (-b + sqrt_discriminant) / (2 * a)\n",
        "        x2 = (-b - sqrt_discriminant) / (2 * a)\n",
        "    else:\n",
        "        real_part = -b / (2 * a)\n",
        "        imaginary_part = sqrt_discriminant.imag / (2 * a)\n",
        "        x1 = complex(real_part, imaginary_part)\n",
        "        x2 = complex(real_part, -imaginary_part)\n",
        "    \n",
        "    return x1,x2"
      ],
      "execution_count": null,
      "outputs": []
    },
    {
      "cell_type": "markdown",
      "metadata": {
        "id": "PxmZy_IRdFws"
      },
      "source": [
        "## 4. Feladat\n",
        "\n",
        "#### Docstring és változó számú argumentumok - I.\n",
        "\n",
        "Írjunk egy függvényt, amely egy kezdőértékből, egy kvóciensből és egy N egész számból legyárt egy N hosszú mértani sorozatot.\n",
        "\n",
        "Az általunk megírt függvény teljesítse a következő feltételeket:\n",
        "- írjunk **docstringet**,\n",
        "- a függvény egy listával **térjen vissza**\n",
        "- ha egy bemeneti értéke van, akkor azt tekintse kezdőértéknek, a kvóciens legyen 0.5, N pedig 10\n",
        "- ha két bemeneti érték van, akkor az első legyen a kezdőérték, a második a kvóciens, N pedig 10\n",
        "- ha megvan mind a három paraméter, akkor ugyanúgy viselkedjen, mint ahogy azt az előző feladatban tette"
      ]
    },
    {
      "cell_type": "code",
      "metadata": {
        "id": "gemtKC0SdFws"
      },
      "source": [
        "def mertani(x0, q=0.5, N=10):\n",
        "    \"\"\"\n",
        "    This function generates an arithmetic sequence of length N based on the given initial value and common ratio.\n",
        "\n",
        "    Args:\n",
        "        x0 (float): The initial value of the arithmetic sequence.\n",
        "        q (float, optional): The common ratio of the arithmetic sequence. Default value is 0.5.\n",
        "        N (int, optional): The length of the arithmetic sequence. Default value is 10.\n",
        "\n",
        "    Returns:\n",
        "        list: The arithmetic sequence of length N.\n",
        "\n",
        "    \"\"\"\n",
        "    sequence = [x0 * q ** i for i in range(N)]\n",
        "    return sequence\n"
      ],
      "execution_count": null,
      "outputs": []
    },
    {
      "cell_type": "markdown",
      "metadata": {
        "id": "76srIpUudFwv"
      },
      "source": [
        "##  5. feladat\n",
        "\n",
        "#### Dictionary - II.\n",
        "\n",
        "A harmadik feladat magyar-angol szótárának megfordításával készítsétek el az angol-magyar szótárt, majd ennek segítségével a függvényt, ami tetszőleges angol szöveget magyarra fordít!\n",
        "\n",
        "- A kézzel bevitt szótár nem jó megoldás! (használjátok a `dict` típus `items()` tagfüggvényét!)\n",
        "\n",
        "- Ha ismeretlen szóval találkoztok, akkor csináljátok azt, amit a Google Translator: csak írjátok ki az eredeti szót fordítás nélkül. ( A szöveg többi részét természetesen le kell fordítani.)\n",
        "\n",
        "- Nem baj, ha nyelvtanilag nem helyes, vagy értelmetlen a fordítás.\n",
        "\n",
        "----"
      ]
    },
    {
      "cell_type": "code",
      "metadata": {
        "id": "yM95f8I0dFwv"
      },
      "source": [
        "szotar={'a':'the',\n",
        "        'majom': 'monkey',\n",
        "        'kutya':'dog',\n",
        "        'szereti':'likes',\n",
        "        'banánt':'banana',\n",
        "        'kolbászt':'sausage'}\n",
        "\n",
        "angol_mondat='The monkey likes banana. Every dog likes sausage.'"
      ],
      "execution_count": null,
      "outputs": []
    },
    {
      "cell_type": "code",
      "source": [
        "szotar = {value: key for key, value in szotar.items()}\n",
        "\n",
        "def english_to_hungarian(text, dictionary):\n",
        "    words = text.split()\n",
        "    translated = []\n",
        "    for word in words:\n",
        "        if word in dictionary:\n",
        "            translated.append(dictionary[word])\n",
        "        else:\n",
        "            translated.append(word)\n",
        "    result = ' '.join(translated)\n",
        "    return result\n",
        "\n",
        "print(english_to_hungarian(angol_mondat, szotar))"
      ],
      "metadata": {
        "colab": {
          "base_uri": "https://localhost:8080/"
        },
        "id": "tTGH67aehfzo",
        "outputId": "e864cf68-5c8a-4dba-df01-56c15302e926"
      },
      "execution_count": null,
      "outputs": [
        {
          "output_type": "stream",
          "name": "stdout",
          "text": [
            "The majom szereti banana. Every kutya szereti sausage.\n"
          ]
        }
      ]
    },
    {
      "cell_type": "markdown",
      "metadata": {
        "id": "-qRGQ5HIdFwy"
      },
      "source": [
        "##  6. feladat \n",
        "\n",
        "#### Kulcsszavas függvény változó számú argumentummal\n",
        "\n",
        "Írjunk egy függvényt, amely egy adott **x** array-ben tárolt valós értékekre kiértékel egy tetszőleges polinomfüggvényt, vagy ábrázolja azt! \n",
        "- A polinom-együtthatókat egy tetszőleges hosszúságú **args** nevű váltózóban kapjuk.\n",
        "- Ha a **kwargs** kulcsszavas argumentumban a `csinal_kepet` kulcsszo `True` akkor ábrázoljuk a polinomot és ne térjünk vissza semmilyen értékkel, ellenkező esetben a függvény térjen vissza egy array változóval amely polinom értékeit tartalmazza az **x** változóban tárolt helyeken. \n",
        "- Az ábrázolás stilisztikai paramétereit a függvénynek adott egyéb kulcsszavas argumentumok segítségével állítsuk be!"
      ]
    },
    {
      "cell_type": "code",
      "metadata": {
        "id": "sJiHJMyLdFwy"
      },
      "source": [
        "import numpy as np\n",
        "import matplotlib.pyplot as plt\n",
        "\n",
        "def fuggveny(x, *args, **kwargs):\n",
        "    csinal_kepet = kwargs.get('csinal_kepet', False)\n",
        "    xmin = kwargs.get('xmin', None)\n",
        "    xmax = kwargs.get('xmax', None)\n",
        "    linestyle = kwargs.get('linestyle', '-')\n",
        "    linewidth = kwargs.get('linewidth', 2)\n",
        "    color = kwargs.get('color', 'blue')\n",
        "\n",
        "    polinom_ertekek = np.polyval(args, x)\n",
        "\n",
        "    if csinal_kepet:\n",
        "        if xmin is None:\n",
        "            xmin = min(x)\n",
        "        if xmax is None:\n",
        "            xmax = max(x)\n",
        "        plt.plot(x, polinom_ertekek, linestyle=linestyle, linewidth=linewidth, color=color)\n",
        "        plt.xlim(xmin, xmax)\n",
        "        plt.xlabel('x')\n",
        "        plt.ylabel('Polinom értékek')\n",
        "        plt.title('Polinom ábrázolása')\n",
        "        plt.grid(True)\n",
        "        plt.show()\n",
        "    else:\n",
        "        return polinom_ertekek\n",
        "    "
      ],
      "execution_count": null,
      "outputs": []
    },
    {
      "cell_type": "markdown",
      "metadata": {
        "id": "PuID9ktLdFw1"
      },
      "source": [
        "## 7. feladat\n",
        "\n",
        "#### Listák - II.\n",
        "\n",
        "Ábrázold hisztogramon az [Anyám tyúkja](http://magyar-irodalom.elte.hu/sulinet/igyjo/setup/portrek/petofi/anyamtyu.htm) versben a szavak hosszának eloszlását."
      ]
    },
    {
      "cell_type": "code",
      "source": [
        "poem = \"\"\"Ej mi a kő! tyúkanyó, kend\n",
        "          A szobában lakik itt bent?\n",
        "          Lám, csak jó az isten, jót ád,\n",
        "          Hogy fölvitte a kend dolgát!\n",
        "\n",
        "          Itt szaladgál föl és alá,\n",
        "          Még a ládára is fölszáll,\n",
        "          Eszébe jut, kotkodákol,\n",
        "          S nem verik ki a szobábol.\n",
        "\n",
        "          Dehogy verik, dehogy verik!\n",
        "          Mint a galambot etetik,\n",
        "          Válogat a kendermagban,\n",
        "          A kiskirály sem él jobban.\n",
        "\n",
        "          Ezért aztán, tyúkanyó, hát\n",
        "          Jól megbecsűlje kend magát,\n",
        "          Iparkodjék, ne legyen ám\n",
        "          Tojás szűkében az anyám. -\n",
        "\n",
        "          Morzsa kutyánk, hegyezd füled,\n",
        "          Hadd beszélek mostan veled,\n",
        "          Régi cseléd vagy a háznál,\n",
        "          Mindig emberűl szolgáltál,\n",
        "\n",
        "          Ezután is jó légy, Morzsa,\n",
        "          Kedvet ne kapj a tyúkhusra,\n",
        "          Élj a tyúkkal barátságba'...\n",
        "          Anyám egyetlen jószága.\"\"\"\n",
        "\n",
        "import matplotlib.pyplot as plt\n",
        "\n",
        "def plot_word_length_distribution(text):\n",
        "    words = text.split()\n",
        "    word_lengths = [len(word) for word in words]\n",
        "\n",
        "    plt.hist(word_lengths, bins=range(1, max(word_lengths)+2), edgecolor='black')\n",
        "    plt.xlabel('Szóhossz')\n",
        "    plt.ylabel('Gyakoriság')\n",
        "    plt.title('Szóhossz eloszlása')\n",
        "    plt.grid(True)\n",
        "    plt.show()\n",
        "\n",
        "plot_word_length_distribution(poem)"
      ],
      "metadata": {
        "colab": {
          "base_uri": "https://localhost:8080/",
          "height": 472
        },
        "id": "i92x692Zkc2Y",
        "outputId": "d94227e1-c3cb-46b6-f561-2a8173651556"
      },
      "execution_count": null,
      "outputs": [
        {
          "output_type": "display_data",
          "data": {
            "text/plain": [
              "<Figure size 640x480 with 1 Axes>"
            ],
            "image/png": "[encoded data removed]"
          },
          "metadata": {}
        }
      ]
    },
    {
      "cell_type": "markdown",
      "metadata": {
        "id": "CAAfXZzzdFw2"
      },
      "source": [
        "##  8. Péksütemény \n",
        "\n",
        "#### Véletlen számok-II\n",
        "\n",
        "Írj egy olyan függvényt, melynek bemeneti értéke a $p$ valószínűség (mely egy 0 és 1 közötti szám), kimeneti értéke pedig $p$ valószínűséggel a \"kakaós csiga\" string, 1-$p$ valószínűséggel pedig a \"túrós táska\" string. Demonstráld hisztogram segítségével, hogy a függvényed helyes eloszlással generálja a kívánt péksüteményeket!"
      ]
    },
    {
      "cell_type": "code",
      "metadata": {
        "id": "YiU_180sdFw2",
        "colab": {
          "base_uri": "https://localhost:8080/",
          "height": 473
        },
        "outputId": "af15ddb3-5546-4a57-871c-96026a3285dc"
      },
      "source": [
        "import numpy as np\n",
        "import matplotlib.pyplot as plt\n",
        "\n",
        "def generate_pastry(p, n):\n",
        "    choices = [\"kakaós csiga\", \"túrós táska\"]\n",
        "    pastry = np.random.choice(choices, size=n, p=[p, 1-p])\n",
        "    return pastry\n",
        "\n",
        "p = 0.7  # valószínűség, hogy \"kakaós csiga\" lesz\n",
        "n = 1000  # összesen generált sütemények száma\n",
        "\n",
        "pastry = generate_pastry(p, n)\n",
        "\n",
        "# Hisztogram ábrázolása\n",
        "unique, counts = np.unique(pastry, return_counts=True)\n",
        "plt.bar(unique, counts)\n",
        "plt.xlabel('Sütemény típus')\n",
        "plt.ylabel('Gyakoriság')\n",
        "plt.title('Sütemény típusok eloszlása')\n",
        "plt.show()\n"
      ],
      "execution_count": null,
      "outputs": [
        {
          "output_type": "display_data",
          "data": {
            "text/plain": [
              "<Figure size 640x480 with 1 Axes>"
            ],
            "image/png": "[encoded data removed]"
          },
          "metadata": {}
        }
      ]
    }
  ]
}