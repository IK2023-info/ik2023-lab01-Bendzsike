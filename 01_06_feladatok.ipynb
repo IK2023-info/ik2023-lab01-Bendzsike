{
  "nbformat": 4,
  "nbformat_minor": 0,
  "metadata": {
    "hide_input": false,
    "kernelspec": {
      "display_name": "Python 3",
      "language": "python",
      "name": "python3"
    },
    "language_info": {
      "codemirror_mode": {
        "name": "ipython",
        "version": 3
      },
      "file_extension": ".py",
      "mimetype": "text/x-python",
      "name": "python",
      "nbconvert_exporter": "python",
      "pygments_lexer": "ipython3",
      "version": "3.7.1"
    },
    "colab": {
      "provenance": [],
      "include_colab_link": true
    }
  },
  "cells": [
    {
      "cell_type": "markdown",
      "metadata": {
        "id": "view-in-github",
        "colab_type": "text"
      },
      "source": [
        "<a href=\"https://colab.research.google.com/github/IK2023-info/ik2023-lab01-Bendzsike/blob/main/01_06_feladatok.ipynb\" target=\"_parent\"><img src=\"https://colab.research.google.com/assets/colab-badge.svg\" alt=\"Open In Colab\"/></a>"
      ]
    },
    {
      "cell_type": "markdown",
      "metadata": {
        "id": "BrjbAqF7dFwX"
      },
      "source": [
        "# Feladatok\n",
        "\n",
        "\n",
        "\n",
        "----\n"
      ]
    },
    {
      "cell_type": "markdown",
      "metadata": {
        "id": "4u3wvRgsdFwa"
      },
      "source": [
        "## 1. Feladat\n",
        "#### Listák - I. \n",
        "\n",
        "Galileo Galilei egyik gondolatát küdték el nekünk SMS-ben, de sajnos hálózati hiba miatt nem sorrendben érkeztek meg a szavak. A következőt olvastuk a telefonunkban:"
      ]
    },
    {
      "cell_type": "code",
      "metadata": {
        "id": "KiIy4GbidFwb"
      },
      "source": [
        "sms=['Szentírás ', 'bölcs ', 'a ', 'már ', 'szükséges ', 'mondhat ', 'biztosak ', 'a ', \n",
        "     'feladata, ', 'Mivel ', 'ellent ', 'a ', 'érzéki ', 'azokkal ', 'következtetésekkel, ',\n",
        "     'a ', 'vagyunk ', 'a ', 'tapasztalataink ', 'szöveg ', 'azon ', 'igazság ', 'sose ',\n",
        "     'ami ', 'hogy ', 'melyekben ', 'kísérletek ', 'megtalálják ', 'által.', 'két ', 'fizikai ',\n",
        "     'egymásnak, ', 'egyezik ', 'és ', 'értelmezőinek ', 'értelmezését, ']"
      ],
      "execution_count": null,
      "outputs": []
    },
    {
      "cell_type": "markdown",
      "metadata": {
        "id": "kRAM2StCdFwf"
      },
      "source": [
        "Később a telefonszolgáltató megtalálta a hiba okát, és elküldte, hogy milyen sorrendben kaptuk meg az eredeti szöveg szavait:"
      ]
    },
    {
      "cell_type": "code",
      "metadata": {
        "id": "YfEx-oA7dFwg"
      },
      "source": [
        "sorrend=[8,9,15,26,33,4,27,11,12,0,5,32,29,21,24,22,28,7,30,16,17,2,3,19,13,25,34,14,35,1,23,6,20,31,10,18]"
      ],
      "execution_count": null,
      "outputs": []
    },
    {
      "cell_type": "markdown",
      "metadata": {
        "id": "sA6gpmXJdFwj"
      },
      "source": [
        "Azaz az általunk megkapott első szó az eredeti szövegben a 8-as indexet viselte, azaz a 9. volt.\n",
        "\n",
        "Írj egy olyan programot, ami helyreállítja az idézetet, valamint össze is fűzi a lista elemeit egy mondattá."
      ]
    },
    {
      "cell_type": "code",
      "source": [
        "from operator import itemgetter\n",
        "smsOriginal = zip(sms, sorrend)\n",
        "message = sorted(smsOriginal, key=itemgetter(1))\n",
        "\n",
        "for i in message:\n",
        "  print(i[0], end=' ')\n"
      ],
      "metadata": {
        "colab": {
          "base_uri": "https://localhost:8080/"
        },
        "id": "eW61hSm2QMda",
        "outputId": "d85e1d9a-cafb-4786-f2c8-7ddcebd458ff"
      },
      "execution_count": null,
      "outputs": [
        {
          "output_type": "stream",
          "name": "stdout",
          "text": [
            "Mivel  két  igazság  sose  mondhat  ellent  egymásnak,  a  Szentírás  bölcs  értelmezőinek  a  feladata,  hogy  megtalálják  a  szöveg  azon  értelmezését,  ami  egyezik  azokkal  a  fizikai  következtetésekkel,  melyekben  már  biztosak  vagyunk  érzéki  tapasztalataink  és  a  szükséges  kísérletek  által. "
          ]
        }
      ]
    },
    {
      "cell_type": "markdown",
      "metadata": {
        "id": "trwhokPldFwk"
      },
      "source": [
        "## 2. Feladat\n",
        "\n",
        "#### Dictionary - I.\n",
        "\n",
        "Írjatok egy függvényt, ami a megadott szótár segítségével tetszőleges magyar szöveget angolra fordít!\n",
        "\n",
        "- A fordítás történjen szóról szóra.\n",
        "- Ha ismeretlen szóval találkoztok, akkor csináljátok azt, amit a Google Translator: csak írjátok ki az eredeti szót fordítás nélkül. ( A szöveg többi részét természetesen le kell fordítani.)\n",
        "- Nem baj, ha nyelvtanilag nem helyes vagy értelmetlen a fordítás."
      ]
    },
    {
      "cell_type": "code",
      "metadata": {
        "id": "9tGUdBQndFwl"
      },
      "source": [
        "szotar={'a':'the',\n",
        "        'majom': 'monkey',\n",
        "        'kutya':'dog',\n",
        "        'szereti':'likes',\n",
        "        'banánt':'banana',\n",
        "        'kolbászt':'sausage'}\n",
        "\n",
        "pelda_szoveg='a majom szereti a banánt minden kutya szereti a kolbászt'"
      ],
      "execution_count": null,
      "outputs": []
    },
    {
      "cell_type": "code",
      "source": [
        "def translate_to_english(text, dictionary):\n",
        "    words = text.split()\n",
        "    translated_words = []\n",
        "    for word in words:\n",
        "        if word in dictionary:\n",
        "            translated_words.append(dictionary[word])\n",
        "        else:\n",
        "            translated_words.append(word)\n",
        "    translated_text = ' '.join(translated_words)\n",
        "    return translated_text\n",
        "\n",
        "print(translate_to_english(pelda_szoveg, szotar))"
      ],
      "metadata": {
        "colab": {
          "base_uri": "https://localhost:8080/"
        },
        "id": "SCKtFmq6_ZzJ",
        "outputId": "6070b923-3ac4-4f05-82ff-726b3de1cd88"
      },
      "execution_count": null,
      "outputs": [
        {
          "output_type": "stream",
          "name": "stdout",
          "text": [
            "the monkey likes the banana minden dog likes the sausage\n"
          ]
        }
      ]
    },
    {
      "cell_type": "markdown",
      "metadata": {
        "id": "dK---IxJdFwo"
      },
      "source": [
        "## 3. feladat\n",
        "\n",
        "#### Függvények - II.\n",
        "\n",
        "Írj egy függvényt, ami a $$ ax^2+bx+c=0 $$ másodfokú egyenlet (valós és komplex) gyökeit határozza meg. Csak akkor kapjunk eredményként komplex számot, ha a diszkrimináns negatív!\n",
        "\n",
        "Példaként add meg a következő négy egyenlet megoldását:\n",
        "1. $x^2=100$\n",
        "2. $3x^2-25x=10$\n",
        "3. $-4x^2+4x=1$\n",
        "4. $25x^2+16x=-100$"
      ]
    },
    {
      "cell_type": "code",
      "metadata": {
        "id": "iHHzPu_jdFwp"
      },
      "source": [
        "import cmath\n",
        "import math\n",
        "\n",
        "def solve_quadratic_equation(a, b, c):\n",
        "    # Calculate the discriminant\n",
        "    discriminant = b**2 - 4*a*c\n",
        "\n",
        "    # If the discriminant is negative, we have only complex roots\n",
        "    if discriminant < 0:\n",
        "        root1 = (-b + cmath.sqrt(discriminant)) / (2*a)\n",
        "        root2 = (-b - cmath.sqrt(discriminant)) / (2*a)\n",
        "        return (root1, root2)\n",
        "    # If the discriminant is non-negative, we calculate the real roots\n",
        "    else:\n",
        "      root1 = (-b + math.sqrt(discriminant)) / (2*a)\n",
        "      root2 = (-b - math.sqrt(discriminant)) / (2*a)\n",
        "      return (root1, root2)"
      ],
      "execution_count": 2,
      "outputs": []
    },
    {
      "cell_type": "markdown",
      "metadata": {
        "id": "PxmZy_IRdFws"
      },
      "source": [
        "## 4. Feladat\n",
        "\n",
        "#### Docstring és változó számú argumentumok - I.\n",
        "\n",
        "Írjunk egy függvényt, amely egy kezdőértékből, egy kvóciensből és egy N egész számból legyárt egy N hosszú mértani sorozatot.\n",
        "\n",
        "Az általunk megírt függvény teljesítse a következő feltételeket:\n",
        "- írjunk **docstringet**,\n",
        "- a függvény egy listával **térjen vissza**\n",
        "- ha egy bemeneti értéke van, akkor azt tekintse kezdőértéknek, a kvóciens legyen 0.5, N pedig 10\n",
        "- ha két bemeneti érték van, akkor az első legyen a kezdőérték, a második a kvóciens, N pedig 10\n",
        "- ha megvan mind a három paraméter, akkor ugyanúgy viselkedjen, mint ahogy azt az előző feladatban tette"
      ]
    },
    {
      "cell_type": "code",
      "metadata": {
        "id": "gemtKC0SdFws",
        "colab": {
          "base_uri": "https://localhost:8080/"
        },
        "outputId": "a1cc372d-bfc2-4e23-fa90-e0d0f3ac96cd"
      },
      "source": [
        "def mertani(x0,q = 0.5, N = 10):\n",
        "    \"\"\"\n",
        "      The function generates a geometric sequence of length N from a given initial value and ratio.\n",
        "      Args:\n",
        "        x0 (float): Initial value of the sequence.\n",
        "        q (float, optional): Ratio of the sequence. Default value is 0.5.\n",
        "        N (int, optional): Length of the sequence. Default value is 10.\n",
        "      \n",
        "      Returns:\n",
        "        list: A list containing a geometric sequence of length N.\"\n",
        "    \"\"\"\n",
        "    sequence = []\n",
        "    for i in range(N):\n",
        "        sequence.append(x0)\n",
        "        x0 *= q\n",
        "    return sequence\n",
        "\n",
        "print(mertani(0.1))"
      ],
      "execution_count": null,
      "outputs": [
        {
          "output_type": "stream",
          "name": "stdout",
          "text": [
            "[0.1, 0.05, 0.025, 0.0125, 0.00625, 0.003125, 0.0015625, 0.00078125, 0.000390625, 0.0001953125]\n"
          ]
        }
      ]
    },
    {
      "cell_type": "markdown",
      "metadata": {
        "id": "76srIpUudFwv"
      },
      "source": [
        "##  5. feladat\n",
        "\n",
        "#### Dictionary - II.\n",
        "\n",
        "A harmadik feladat magyar-angol szótárának megfordításával készítsétek el az angol-magyar szótárt, majd ennek segítségével a függvényt, ami tetszőleges angol szöveget magyarra fordít!\n",
        "\n",
        "- A kézzel bevitt szótár nem jó megoldás! (használjátok a `dict` típus `items()` tagfüggvényét!)\n",
        "\n",
        "- Ha ismeretlen szóval találkoztok, akkor csináljátok azt, amit a Google Translator: csak írjátok ki az eredeti szót fordítás nélkül. ( A szöveg többi részét természetesen le kell fordítani.)\n",
        "\n",
        "- Nem baj, ha nyelvtanilag nem helyes, vagy értelmetlen a fordítás.\n",
        "\n",
        "----"
      ]
    },
    {
      "cell_type": "code",
      "metadata": {
        "id": "yM95f8I0dFwv"
      },
      "source": [
        "szotar={'a':'the',\n",
        "        'majom': 'monkey',\n",
        "        'kutya':'dog',\n",
        "        'szereti':'likes',\n",
        "        'banánt':'banana',\n",
        "        'kolbászt':'sausage'}\n",
        "\n",
        "angol_mondat='The monkey likes banana. Every dog likes sausage.'"
      ],
      "execution_count": null,
      "outputs": []
    },
    {
      "cell_type": "code",
      "source": [
        "angol_magyar = {value: key for key, value in szotar.items()}\n",
        "\n",
        "def translate_to_hungarian(szoveg):\n",
        "    magyar_szoveg = \"\"\n",
        "    for szo in szoveg.split():\n",
        "        forditas = angol_magyar.get(szo, szo)\n",
        "        magyar_szoveg += forditas + \" \"\n",
        "    return magyar_szoveg.strip()\n",
        "\n",
        "print(translate_to_hungarian(angol_mondat))"
      ],
      "metadata": {
        "colab": {
          "base_uri": "https://localhost:8080/"
        },
        "id": "rmV8C3HgGbZ5",
        "outputId": "d06e3aa8-367a-4677-ed9c-6d41bc396fd1"
      },
      "execution_count": null,
      "outputs": [
        {
          "output_type": "stream",
          "name": "stdout",
          "text": [
            "The majom szereti banana. Every kutya szereti sausage.\n"
          ]
        }
      ]
    },
    {
      "cell_type": "markdown",
      "metadata": {
        "id": "-qRGQ5HIdFwy"
      },
      "source": [
        "##  6. feladat \n",
        "\n",
        "#### Kulcsszavas függvény változó számú argumentummal\n",
        "\n",
        "Írjunk egy függvényt, amely egy adott **x** array-ben tárolt valós értékekre kiértékel egy tetszőleges polinomfüggvényt, vagy ábrázolja azt! \n",
        "- A polinom-együtthatókat egy tetszőleges hosszúságú **args** nevű váltózóban kapjuk.\n",
        "- Ha a **kwargs** kulcsszavas argumentumban a `csinal_kepet` kulcsszo `True` akkor ábrázoljuk a polinomot és ne térjünk vissza semmilyen értékkel, ellenkező esetben a függvény térjen vissza egy array változóval amely polinom értékeit tartalmazza az **x** változóban tárolt helyeken. \n",
        "- Az ábrázolás stilisztikai paramétereit a függvénynek adott egyéb kulcsszavas argumentumok segítségével állítsuk be!"
      ]
    },
    {
      "cell_type": "code",
      "metadata": {
        "id": "sJiHJMyLdFwy"
      },
      "source": [
        "import numpy as np\n",
        "import matplotlib.pyplot as plt\n",
        "\n",
        "def fuggveny(x,*args,**kwargs):\n",
        "    \"I evaluate or plot a polynomial.\"\n",
        "    y = np.polyval(args, x)\n",
        "    if kwargs.get('csinal_kepet', False):\n",
        "        # Plot\n",
        "        fig, ax = plt.subplots()\n",
        "        ax.plot(x, y, linestyle=kwargs.get('linestyle', '-'), color=kwargs.get('color', 'blue'))\n",
        "        ax.set(xlim=(kwargs.get('xmin', x.min()), kwargs.get('xmax', x.max())),\n",
        "               ylim=(kwargs.get('ymin', y.min()), kwargs.get('ymax', y.max())),\n",
        "               xlabel=kwargs.get('xlabel', 'x'),\n",
        "               ylabel=kwargs.get('ylabel', 'y'),\n",
        "               title=kwargs.get('title', 'Polinom'),\n",
        "               grid=kwargs.get('grid', True))\n",
        "        plt.show()\n",
        "    else:\n",
        "        return y\n",
        "    "
      ],
      "execution_count": null,
      "outputs": []
    },
    {
      "cell_type": "markdown",
      "metadata": {
        "id": "PuID9ktLdFw1"
      },
      "source": [
        "## 7. feladat\n",
        "\n",
        "#### Listák - II.\n",
        "\n",
        "Ábrázold hisztogramon az [Anyám tyúkja](http://magyar-irodalom.elte.hu/sulinet/igyjo/setup/portrek/petofi/anyamtyu.htm) versben a szavak hosszának eloszlását."
      ]
    },
    {
      "cell_type": "code",
      "source": [
        "import matplotlib.pyplot as plt\n",
        "\n",
        "vers = \"\"\" Ej mi a kő! tyúkanyó, \n",
        "        kend A szobában lakik itt bent?\n",
        "        Lám, csak jó az isten, jót ád,\n",
        "        Hogy fölvitte a kend dolgát!\n",
        "\n",
        "        Itt szaladgál föl és alá,\n",
        "        Még a ládára is fölszáll,\n",
        "        Eszébe jut, kotkodákol,\n",
        "        S nem verik ki a szobábol.\n",
        "\n",
        "        Dehogy verik, dehogy verik!\n",
        "        Mint a galambot etetik,\n",
        "        Válogat a kendermagban,\n",
        "        A kiskirály sem él jobban.\n",
        "\n",
        "        Ezért aztán, tyúkanyó, hát\n",
        "        Jól megbecsűlje kend magát,\n",
        "        Iparkodjék, ne legyen ám\n",
        "        Tojás szűkében az anyám. –\n",
        "\n",
        "        Morzsa kutyánk, hegyezd füled,\n",
        "        Hadd beszélek mostan veled,\n",
        "        Régi cseléd vagy a háznál,\n",
        "        Mindig emberűl szolgáltál,\n",
        "\n",
        "        Ezután is jó légy, Morzsa,\n",
        "        Kedvet ne kapj a tyúkhusra,\n",
        "        Élj a tyúkkal barátságba’...\n",
        "        Anyám egyetlen jószága.\"\"\"\n",
        "\n",
        "szavak = vers.split()\n",
        "hosszak = [len(s) for s in szavak]\n",
        "\n",
        "plt.hist(hosszak, bins=max(hosszak)-min(hosszak)+1)\n",
        "plt.xlabel('Szóhossz')\n",
        "plt.ylabel('Gyakoriság')\n",
        "plt.title('Anyám tyúkja vers szavainak hossza')\n",
        "plt.show()\n"
      ],
      "metadata": {
        "colab": {
          "base_uri": "https://localhost:8080/",
          "height": 295
        },
        "id": "ehyv819m0v4C",
        "outputId": "bb0b3e8e-8818-429c-b866-79b8e6fa5a38"
      },
      "execution_count": null,
      "outputs": [
        {
          "output_type": "display_data",
          "data": {
            "text/plain": [
              "<Figure size 432x288 with 1 Axes>"
            ],
            "image/png": "[encoded data removed]"
          },
          "metadata": {
            "needs_background": "light"
          }
        }
      ]
    },
    {
      "cell_type": "markdown",
      "metadata": {
        "id": "CAAfXZzzdFw2"
      },
      "source": [
        "##  8. Péksütemény \n",
        "\n",
        "#### Véletlen számok-II\n",
        "\n",
        "Írj egy olyan függvényt, melynek bemeneti értéke a $p$ valószínűség (mely egy 0 és 1 közötti szám), kimeneti értéke pedig $p$ valószínűséggel a \"kakaós csiga\" string, 1-$p$ valószínűséggel pedig a \"túrós táska\" string. Demonstráld hisztogram segítségével, hogy a függvényed helyes eloszlással generálja a kívánt péksüteményeket!"
      ]
    },
    {
      "cell_type": "code",
      "metadata": {
        "id": "YiU_180sdFw2",
        "colab": {
          "base_uri": "https://localhost:8080/",
          "height": 296
        },
        "outputId": "d6b33098-0c8c-4166-ebab-3dad7bff8d2e"
      },
      "source": [
        "import random\n",
        "\n",
        "def peksutemeny(p):\n",
        "    if random.random() < p:\n",
        "        return \"kakaós csiga\"\n",
        "    else:\n",
        "        return \"túrós táska\"\n",
        "\n",
        "import matplotlib.pyplot as plt\n",
        "\n",
        "p = 0.7\n",
        "sutesek = [peksutemeny(p) for i in range(1000)]\n",
        "\n",
        "plt.hist(sutesek, bins=2)\n",
        "plt.xlabel('Péksütemény')\n",
        "plt.ylabel('Gyakoriság')\n",
        "plt.title(f'Péksütemények eloszlása (p={p})')\n",
        "plt.show()\n"
      ],
      "execution_count": null,
      "outputs": [
        {
          "output_type": "display_data",
          "data": {
            "text/plain": [
              "<Figure size 432x288 with 1 Axes>"
            ],
            "image/png": "[encoded data removed]"
          },
          "metadata": {
            "needs_background": "light"
          }
        }
      ]
    }
  ]
}