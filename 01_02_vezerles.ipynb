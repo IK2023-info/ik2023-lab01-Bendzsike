{
 "cells": [
  {
   "cell_type": "markdown",
   "metadata": {},
   "source": [
    "# Alapvető vezérlőutasítások\n",
    "\n",
    "Bonyolultabb programok sok egymás után következő utasítás végrehajtásából állnak. Azt, hogy melyik utasítás mikor kerül végrehajtásra, a vezérlőutasítások határozzák meg. Minden programnyelvben mindenképpen megtalálható két alapvető vezérlő utasítás, a feltételválasztó és a ciklusszervező."
   ]
  },
  {
   "cell_type": "markdown",
   "metadata": {},
   "source": [
    "## Az `if` utasítás\n",
    "Az **`if`** utasítás tölti be a legtöbb nyelvben a feltételválasztó utasítás szerepét. Segítségével határozhatjuk meg, hogy bizonyos körülmények teljesülésekor a program a megfelelő utasításokat hajtsa végre. \n",
    "Lássunk erre egy példát:"
   ]
  },
  {
   "cell_type": "code",
   "execution_count": 1,
   "metadata": {},
   "outputs": [
    {
     "name": "stdout",
     "output_type": "stream",
     "text": [
      "A matematika még mindig működik\n"
     ]
    }
   ],
   "source": [
    "if 2+2==4:\n",
    "    print('A matematika még mindig működik')\n"
   ]
  },
  {
   "cell_type": "markdown",
   "metadata": {},
   "source": [
    "<p style=\"color:darkred;\"> <b>Figyelem, a második sort beljebb húztuk!</b> A behúzás a Python jelölése az utasítások csoportosítására! </p> A behúzás mértékére általánosan bevett szokás, hogy a szintaktikailag alacsonyabb szintű programrészek négy szóközzel beljebb vannak tolva. Ha tehát két **`if`** utasítást ágyazunk egymásba, akkor a második által teljesítendő utasítások 8 szóközzel lesznek beljebb húzva. Ez a behúzás a `jupyter` notebook kódcelláiban automatikusan is megtörténik. A `:` utáni ENTER leütése után a következő sor 4 szóközzel kerül beljebb, további ENTER leütése hatására a hierarchia azonos szintjén kezdjük az új sort. Ha feljebb szeretnénk lépni, akkor a behúzást ki kell törölni. A C, C++, Java nyelvekben kapcsos zárójeleket {} használnak az egybefüggő kódrészletek elkülönítésére, kb. így: \n",
    "```C\n",
    "if (i==10) {\n",
    "print i\n",
    "}\n",
    "```\n",
    "A FORTRAN nyelvben az *END* szócska kiírása jelzi a kódrészlet végét. A pythonban a kettőspont (\":\"), majd szóközökkel beljebb írt sorok szolgálnak erre. Ha más programokból másolunk át részleteket, figyeljünk arra, hogy a behúzás helyett nem TAB-ot használ-e. (A TAB néhol megengedett, de kerülendő. A modern [python kódolási stílusirányzat](http://django.arek.uni-obuda.hu/python3-doc/html/tutorial/controlflow.html#intermezzo-kodolasi-stilus) minden behúzást, ahogy azt fent is említettük, 4 szóköznek javasol.)"
   ]
  },
  {
   "cell_type": "code",
   "execution_count": 2,
   "metadata": {},
   "outputs": [
    {
     "name": "stdout",
     "output_type": "stream",
     "text": [
      "Nyomassuk a pythont!\n"
     ]
    }
   ],
   "source": [
    "today='Monday';\n",
    "time='12:00';\n",
    "if today=='Monday':\n",
    "    if time=='12:00':\n",
    "        print('Nyomassuk a pythont!')"
   ]
  },
  {
   "cell_type": "markdown",
   "metadata": {},
   "source": [
    "Bonyolultabb kritériumszerkezetet az **`else`** és **`elif`** parancsok segítségével konstruálhatunk:"
   ]
  },
  {
   "cell_type": "code",
   "execution_count": 3,
   "metadata": {},
   "outputs": [
    {
     "name": "stdout",
     "output_type": "stream",
     "text": [
      "Egy\n"
     ]
    }
   ],
   "source": [
    "x = 1\n",
    "if x < 0:\n",
    "    x = 0\n",
    "    print('Negatív, lecseréltem nullára')\n",
    "elif x == 0:\n",
    "    print('Nulla')\n",
    "elif x == 1:\n",
    "    print('Egy')\n",
    "else:\n",
    "    print('Egynél több.')"
   ]
  },
  {
   "cell_type": "markdown",
   "metadata": {},
   "source": [
    "Hiányozhat, de lehet egy vagy akár egynél több **`elif`** rész, az **`else`** rész szintén elmaradhat. Az **`elif`** kulcsszó – amely az ‘else if’ rövidítése – hasznos a felesleges behúzások elkerülésre. Egy **`if`** ...**`elif`** ... **`elif`** ... sor helyettesíti a más nyelvekben található `switch` és `case` utasításokat."
   ]
  },
  {
   "cell_type": "markdown",
   "metadata": {},
   "source": [
    "## A **`for`** és `while` utasítások\n",
    "A számítógépek legfontosabb tulajdonságai közt szerepel az, hogy nagyon gyorsak és \"fáradhatatlanok\". Olyan feladatok megoldásában a leghatékonyabbak, amikor a feladatot kevés munkával meg lehet fogalmazni (\"az alkotó pihen\") de végrehajtása nagyon sok ismétlést, iterációt igényel (\"a gép forog\"). Az iteráció (angol: iterate) azt jelenti, hogy például egy lista elemein egyesével végigmegy a program, és műveleteket végez el rajtuk. A Python-ban az egyik erre használható utasítás a **`for`** utasítás (magyarul kb. a ...-ra, azaz pl. a hét minden napjára, a lista minden elemére):"
   ]
  },
  {
   "cell_type": "code",
   "execution_count": 4,
   "metadata": {
    "collapsed": true
   },
   "outputs": [],
   "source": [
    "days_of_the_week = [\"Sunday\",\"Monday\",\"Tuesday\",\"Wednesday\",\"Thursday\",\"Friday\",\"Saturday\"]"
   ]
  },
  {
   "cell_type": "code",
   "execution_count": 5,
   "metadata": {},
   "outputs": [
    {
     "name": "stdout",
     "output_type": "stream",
     "text": [
      "Sunday\n",
      "Monday\n",
      "Tuesday\n",
      "Wednesday\n",
      "Thursday\n",
      "Friday\n",
      "Saturday\n"
     ]
    }
   ],
   "source": [
    "for day in days_of_the_week:\n",
    "    print(day)"
   ]
  },
  {
   "cell_type": "markdown",
   "metadata": {},
   "source": [
    "Ez a kódrészlet a `days_of_the_week` listán megy végig, és a meglátogatott elemet hozzárendeli a `day` változóhoz, amit *ciklusváltozónak* is neveznek. Ezek után mindent végrehajt, amit a beljebb tabulált (angolul: *indented*) parancsblokkban írtunk (most csak egy `print` utasítás), amihez felhasználhatja a ciklusváltozót is. Miután vége a beljebb tabulált régiónak, kilép a ciklusból.\n",
    "Annak semmi jelentősége nincs, hogy a példában a **day** nevet adtuk az iterációban szereplő *ciklusváltozó*nak. A program semmit se tud az emberi időszámításról, például, hogy a hétben napok vannak és nem kiscicák:"
   ]
  },
  {
   "cell_type": "code",
   "execution_count": 6,
   "metadata": {},
   "outputs": [
    {
     "name": "stdout",
     "output_type": "stream",
     "text": [
      "Sunday\n",
      "Monday\n",
      "Tuesday\n",
      "Wednesday\n",
      "Thursday\n",
      "Friday\n",
      "Saturday\n"
     ]
    }
   ],
   "source": [
    "for macska in days_of_the_week:\n",
    "    print(macska)"
   ]
  },
  {
   "cell_type": "markdown",
   "metadata": {},
   "source": [
    "A ciklus utasításblokkja állhat több utasításból is:"
   ]
  },
  {
   "cell_type": "code",
   "execution_count": 7,
   "metadata": {},
   "outputs": [
    {
     "name": "stdout",
     "output_type": "stream",
     "text": [
      "Today is Sunday\n",
      "Today is Monday\n",
      "Today is Tuesday\n",
      "Today is Wednesday\n",
      "Today is Thursday\n",
      "Today is Friday\n",
      "Today is Saturday\n"
     ]
    }
   ],
   "source": [
    "for day in days_of_the_week:\n",
    "    statement = \"Today is \" + day\n",
    "    print(statement)"
   ]
  },
  {
   "cell_type": "markdown",
   "metadata": {},
   "source": [
    "A **`range()`** parancs remekül használható, ha a **`for`** ciklusban adott számú műveletet szeretnénk elvégezni:"
   ]
  },
  {
   "cell_type": "code",
   "execution_count": 8,
   "metadata": {},
   "outputs": [
    {
     "name": "stdout",
     "output_type": "stream",
     "text": [
      "0  szer  0 az pontosan  0\n",
      "1  szer  1 az pontosan  1\n",
      "2  szer  2 az pontosan  4\n",
      "3  szer  3 az pontosan  9\n",
      "4  szer  4 az pontosan  16\n",
      "5  szer  5 az pontosan  25\n",
      "6  szer  6 az pontosan  36\n",
      "7  szer  7 az pontosan  49\n",
      "8  szer  8 az pontosan  64\n",
      "9  szer  9 az pontosan  81\n",
      "10  szer  10 az pontosan  100\n",
      "11  szer  11 az pontosan  121\n",
      "12  szer  12 az pontosan  144\n",
      "13  szer  13 az pontosan  169\n",
      "14  szer  14 az pontosan  196\n",
      "15  szer  15 az pontosan  225\n",
      "16  szer  16 az pontosan  256\n",
      "17  szer  17 az pontosan  289\n",
      "18  szer  18 az pontosan  324\n",
      "19  szer  19 az pontosan  361\n"
     ]
    }
   ],
   "source": [
    "for i in range(20):\n",
    "    print(i,\" szer \",i ,\"az pontosan \",i*i)"
   ]
  },
  {
   "cell_type": "markdown",
   "metadata": {},
   "source": [
    "Akkor válik mindez még érdekesebbé, ha az eddig tanult iterációt és feltételvizsgálatot kombináljuk:"
   ]
  },
  {
   "cell_type": "code",
   "execution_count": 9,
   "metadata": {},
   "outputs": [
    {
     "name": "stdout",
     "output_type": "stream",
     "text": [
      "Today is Sunday\n",
      "   Sleep in\n",
      "Today is Monday\n",
      "   Go to work\n",
      "Today is Tuesday\n",
      "   Go to work\n",
      "Today is Wednesday\n",
      "   Go to work\n",
      "Today is Thursday\n",
      "   Go to work\n",
      "Today is Friday\n",
      "   Go to work\n",
      "Today is Saturday\n",
      "   Do chores\n"
     ]
    }
   ],
   "source": [
    "for day in days_of_the_week:\n",
    "    statement = \"Today is \" + day\n",
    "    print(statement)\n",
    "    if day == \"Sunday\":\n",
    "        print (\"   Sleep in\")\n",
    "    elif day == \"Saturday\":\n",
    "        print (\"   Do chores\")\n",
    "    else:\n",
    "        print (\"   Go to work\")"
   ]
  },
  {
   "cell_type": "markdown",
   "metadata": {},
   "source": [
    "Figyeljük meg, a fenti példában hogy ágyazódik egymás alá a **`for`** és az **`if`**! "
   ]
  },
  {
   "cell_type": "markdown",
   "metadata": {},
   "source": [
    "A for utasításhoz hasonlóan a `while` utasítást is használhatjuk ciklusok szervezésére. A `while` utasítás (magyarul kb. csinálj valamit addig ameddig ... ) alkalmazására vizsgáljuk meg az alábbi példát: "
   ]
  },
  {
   "cell_type": "code",
   "execution_count": 10,
   "metadata": {},
   "outputs": [
    {
     "name": "stdout",
     "output_type": "stream",
     "text": [
      "0\n",
      "1\n",
      "2\n",
      "3\n",
      "4\n",
      "5\n",
      "6\n",
      "7\n",
      "8\n",
      "9\n"
     ]
    }
   ],
   "source": [
    "i=0\n",
    "while i<10:\n",
    "    print(i)\n",
    "    i+=1"
   ]
  },
  {
   "cell_type": "markdown",
   "metadata": {},
   "source": [
    "*Figyelem*:  a `while` — ha nem figyelünk oda — potenciálisan végtelen ciklust eredményez. Például az alábbi ciklus, amennyiben nem szakítjuk meg a kernel futását a Kernel menü Interrupt menüpontjával (vagy az `I` billentyű kétszeri megnyomásával szerkesztés módon kívül), sosem áll meg:\n",
    "```python\n",
    "while 1==1:\n",
    "    print('Allitsák meg a világot, ki akarok szállni!!')\n",
    "```"
   ]
  },
  {
   "cell_type": "markdown",
   "metadata": {},
   "source": [
    "A `while` ciklust az `else` utasítással kiegészítve megadhatunk egy olyan kódrészletet, ami akkor hajtódik végre, ha a `while` utasítás feltétele már nem teljesül:"
   ]
  },
  {
   "cell_type": "code",
   "execution_count": 11,
   "metadata": {},
   "outputs": [
    {
     "name": "stdout",
     "output_type": "stream",
     "text": [
      "0\n",
      "1\n",
      "2\n",
      "3\n",
      "4\n",
      "5\n",
      "6\n",
      "7\n",
      "8\n",
      "9\n",
      "Itt a vége, fuss el véle!\n"
     ]
    }
   ],
   "source": [
    "i=0\n",
    "while i<10:\n",
    "    print(i)\n",
    "    i+=1\n",
    "else:\n",
    "    print('Itt a vége, fuss el véle!')"
   ]
  },
  {
   "cell_type": "markdown",
   "metadata": {},
   "source": [
    "A `break` utasítás — más nyelvekhez hasonlóan — a `break`-et tartalmazó legmélyebb `for` vagy `while` ciklusból ugrik ki. "
   ]
  },
  {
   "cell_type": "code",
   "execution_count": 12,
   "metadata": {},
   "outputs": [
    {
     "name": "stdout",
     "output_type": "stream",
     "text": [
      "3 prímszám.\n",
      "4 felbontható: 2 * 2.0\n",
      "5 prímszám.\n",
      "5 prímszám.\n",
      "5 prímszám.\n",
      "6 felbontható: 2 * 3.0\n",
      "7 prímszám.\n",
      "7 prímszám.\n",
      "7 prímszám.\n",
      "7 prímszám.\n",
      "7 prímszám.\n",
      "8 felbontható: 2 * 4.0\n",
      "9 prímszám.\n",
      "9 felbontható: 3 * 3.0\n"
     ]
    }
   ],
   "source": [
    "for n in range(2, 10):\n",
    "    for x in range(2, n):\n",
    "        if n % x == 0:\n",
    "            print(n, 'felbontható:', x, '*', n/x)\n",
    "            break\n",
    "        else:\n",
    "            print(n, 'prímszám.')"
   ]
  },
  {
   "cell_type": "markdown",
   "metadata": {},
   "source": [
    "A `break` utasításról (és néhány további vezérlő utasításról) az alábbi [magyar](http://pythontutorial.pergamen.hu/downloads/html/tut/node7.html#SECTION007400000000000000000) illetve [angol](https://docs.python.org/3.6/tutorial/controlflow.html#break-and-continue-statements-and-else-clauses-on-loops) Python-dokumentációban lehet többet megtudni."
   ]
  },
  {
   "cell_type": "markdown",
   "metadata": {},
   "source": [
    "## Egy példaprogram: Fibbonacci-sorozat\n",
    "A [Fibonacci](http://en.wikipedia.org/wiki/Fibonacci_number)-sorozat első két eleme 0 és 1, majd a következő elemet mindig az előző kettő összegéből számoljuk ki: 0,1,1,2,3,5,8,13,21,34,55,89,...\n",
    "\n",
    "Ha nagyobb $n$ értékekre is ki akarjuk számolni a sorozatot, ez kiváló feladat lehet egy fáradhatatlan és gyors számítógépnek!"
   ]
  },
  {
   "cell_type": "code",
   "execution_count": 13,
   "metadata": {},
   "outputs": [
    {
     "name": "stdout",
     "output_type": "stream",
     "text": [
      "[0, 1, 1, 2, 3, 5, 8, 13, 21, 34]\n"
     ]
    }
   ],
   "source": [
    "n = 10 # ennyi elemet szeretnénk meghatározni\n",
    "sequence = [0,1] # az első két elem\n",
    "for i in range(2,n): # számok 2-től n-ig, Figyelni kell, hogy n ne legyen kisebb mint 2!!\n",
    "    sequence.append(sequence[i-1]+sequence[i-2])\n",
    "print (sequence)"
   ]
  },
  {
   "cell_type": "markdown",
   "metadata": {},
   "source": [
    "Nézzük végig lépésről lépésre! Először $n$ értékét, azaz a kiszámolandó sorozat hosszát állítjuk be 10-re. A sorozatot majdan tároló listát **`sequence`**-nek neveztük el, és *inicializáltuk* az első két értékkel. A \"kézi munka\" után következhet a gép automatikus munkája, az iteráció.\n",
    "\n",
    "Az iterációt 2-vel kezdjük (ez ugye a 0-s indexelés miatt a 3. elem lesz, hisz az első kettőt már mi megadtuk) és $n$-ig, a megadott listaméretig számolunk. \n",
    "\n",
    "A ciklus törzsében az addig kiszámolt lista végére hozzátűzzük (**`append`** parancsról kicsit bővebben [itt](http://django.arek.uni-obuda.hu/python3-doc/html/tutorial/datastructures.html#a-listakrol-bovebben)) az előző két tag összegét. A ciklus vége után kiíratjuk az eredményt.\n",
    "\n",
    "Nézzük meg, hogyan lehet ugyanezt a problémát egy `while` szerkezettel is megoldani:"
   ]
  },
  {
   "cell_type": "code",
   "execution_count": 14,
   "metadata": {},
   "outputs": [
    {
     "name": "stdout",
     "output_type": "stream",
     "text": [
      "[0, 1, 1, 2, 3, 5, 8, 13, 21, 34]\n"
     ]
    }
   ],
   "source": [
    "sequence=[0,1]\n",
    "while len(sequence)<10:\n",
    "    sequence.append(sequence[-1]+sequence[-2])\n",
    "print (sequence)"
   ]
  },
  {
   "cell_type": "markdown",
   "metadata": {},
   "source": [
    "# Függvények\n",
    "\n",
    "Számos programozási nyelvben szokás a felhasználó által megalkotott bonyolultabb utasításokat függvényekbe szervezni. Jól megírt függvények használata általában rövidebbé és jobban átláthatóvá teszi a programokat.\n",
    "\n",
    "## Függvények deklarálása\n",
    "Ha más hosszúságú sorozatot szeretnénk, átmásolhatjuk a fenti kódot egy új cellába, és átírhatjuk az **`n=10`**-et pl. **`n=100`**-ra. Van azonban egy hatékonyabb módszer, új *függvény*-ként definiálhatjuk a **def** utasítás segítségével:"
   ]
  },
  {
   "cell_type": "code",
   "execution_count": 1,
   "metadata": {},
   "outputs": [],
   "source": [
    "def fibonacci(sequence_length):\n",
    "    \"A Fibonacci sorozat elso *sequence_length* darab eleme\" # ez csak a 'help'-hez kell\n",
    "    sequence = [0,1]\n",
    "    if 0 < sequence_length < 3:\n",
    "        return sequence[:sequence_length]\n",
    "    for i in range(2,sequence_length): \n",
    "        sequence.append(sequence[i-1]+sequence[i-2])\n",
    "    return sequence"
   ]
  },
  {
   "cell_type": "markdown",
   "metadata": {},
   "source": [
    "Most már *meghívhatjuk* a **`fibonacci()`** függvényt különböző hosszakra:"
   ]
  },
  {
   "cell_type": "code",
   "execution_count": 16,
   "metadata": {},
   "outputs": [
    {
     "data": {
      "text/plain": [
       "[0, 1, 1, 2, 3]"
      ]
     },
     "execution_count": 16,
     "metadata": {},
     "output_type": "execute_result"
    }
   ],
   "source": [
    "fibonacci(5)"
   ]
  },
  {
   "cell_type": "markdown",
   "metadata": {},
   "source": [
    "Elemezzük a fenti kódot! A már megszokott módon a kettőspont és behúzás határozza meg a függvénydefinícióhoz tartozó kódblokkot. \n",
    "A 2. sorban idézőjelek közt szerepel a [\"**docstring**\"](http://django.arek.uni-obuda.hu/python3-doc/html/tutorial/controlflow.html#a-dokumentacios-karakterlancok), ami a függvény működését magyarázza el röviden, és később a **help** paranccsal hívható elő:"
   ]
  },
  {
   "cell_type": "code",
   "execution_count": 17,
   "metadata": {},
   "outputs": [
    {
     "name": "stdout",
     "output_type": "stream",
     "text": [
      "Help on function fibonacci in module __main__:\n",
      "\n",
      "fibonacci(sequence_length)\n",
      "    A Fibonacci sorozat elso *sequence_length* darab eleme\n",
      "\n"
     ]
    }
   ],
   "source": [
    "help(fibonacci)"
   ]
  },
  {
   "cell_type": "markdown",
   "metadata": {},
   "source": [
    "A notebookos környezetben a docstring a ? segítségével is elérhető:"
   ]
  },
  {
   "cell_type": "code",
   "execution_count": 18,
   "metadata": {
    "collapsed": true
   },
   "outputs": [],
   "source": [
    "?fibonacci"
   ]
  },
  {
   "cell_type": "markdown",
   "metadata": {},
   "source": [
    "A `docstring`-et `jupyter` környezetben úgy is megtekinthetjük, ha egyes függvények hasában, azaz a zárójelek között SHIFT+TAB-ot nyomunk. Próbáld ki ezt az alábbi cellán (anélkül hogy lefuttatnád azt)! (A SHIFT-et nyomva tartva a TAB többszöri megnyomásával a docstringet akár kiteheted a böngészőablakod alsó felére is.)"
   ]
  },
  {
   "cell_type": "code",
   "execution_count": 19,
   "metadata": {},
   "outputs": [
    {
     "ename": "TypeError",
     "evalue": "fibonacci() missing 1 required positional argument: 'sequence_length'",
     "output_type": "error",
     "traceback": [
      "\u001b[0;31m---------------------------------------------------------------------------\u001b[0m",
      "\u001b[0;31mTypeError\u001b[0m                                 Traceback (most recent call last)",
      "\u001b[0;32m<ipython-input-19-1c8462974dd7>\u001b[0m in \u001b[0;36m<module>\u001b[0;34m()\u001b[0m\n\u001b[0;32m----> 1\u001b[0;31m \u001b[0mfibonacci\u001b[0m\u001b[0;34m(\u001b[0m\u001b[0;34m)\u001b[0m\u001b[0;34m\u001b[0m\u001b[0m\n\u001b[0m",
      "\u001b[0;31mTypeError\u001b[0m: fibonacci() missing 1 required positional argument: 'sequence_length'"
     ]
    }
   ],
   "source": [
    "fibonacci()"
   ]
  },
  {
   "cell_type": "markdown",
   "metadata": {},
   "source": [
    "A függvény kimenetelét a **`return`** kulcsszó határozza meg. Ha a fügvény definiálása során nem használtunk **`return`** utasítást, akkor a függvény **None** (semmi) értéket ad vissza. Ha egy függvény lefutott, és nem hajtott végre **`return`** utasítást, akkor is **None** értékkel tér vissza. A **fibonacci** függvény például egy listát ad vissza:"
   ]
  },
  {
   "cell_type": "code",
   "execution_count": 20,
   "metadata": {},
   "outputs": [
    {
     "data": {
      "text/plain": [
       "[0, 1, 1, 2, 3, 5, 8, 13, 21, 34]"
      ]
     },
     "execution_count": 20,
     "metadata": {},
     "output_type": "execute_result"
    }
   ],
   "source": [
    "x=fibonacci(10)\n",
    "x"
   ]
  },
  {
   "cell_type": "markdown",
   "metadata": {},
   "source": [
    "Ez a függvény viszont nem tér vissza sehol:"
   ]
  },
  {
   "cell_type": "code",
   "execution_count": 21,
   "metadata": {},
   "outputs": [],
   "source": [
    "def ures_fuggveny(x):\n",
    "    print('Én egy ures fuggvény vagyok,\\nannak ellenére hogy beszélek,\\nnem térek vissza változóval!!')\n",
    "    y=x-2;"
   ]
  },
  {
   "cell_type": "markdown",
   "metadata": {},
   "source": [
    "Így a **z** válltozóban nem tárolódik semmilyen érték!"
   ]
  },
  {
   "cell_type": "code",
   "execution_count": 22,
   "metadata": {},
   "outputs": [
    {
     "name": "stdout",
     "output_type": "stream",
     "text": [
      "Én egy ures fuggvény vagyok,\n",
      "annak ellenére hogy beszélek,\n",
      "nem térek vissza változóval!!\n"
     ]
    }
   ],
   "source": [
    "z=ures_fuggveny(3)\n",
    "z"
   ]
  },
  {
   "cell_type": "code",
   "execution_count": 23,
   "metadata": {},
   "outputs": [
    {
     "name": "stdout",
     "output_type": "stream",
     "text": [
      "None\n"
     ]
    }
   ],
   "source": [
    "print(z)"
   ]
  },
  {
   "cell_type": "markdown",
   "metadata": {},
   "source": [
    "Egy függvénynek lehet több bemeneti változója is:"
   ]
  },
  {
   "cell_type": "code",
   "execution_count": 24,
   "metadata": {
    "collapsed": true
   },
   "outputs": [],
   "source": [
    "def osszead(a,b):\n",
    "    return a+b"
   ]
  },
  {
   "cell_type": "markdown",
   "metadata": {},
   "source": [
    "Az is előfordulhat, hogy több értéket szeretnénk visszakapni egy függvényből. Ezt például az alábbiak alapján tehetjük meg:"
   ]
  },
  {
   "cell_type": "code",
   "execution_count": 25,
   "metadata": {
    "collapsed": true
   },
   "outputs": [],
   "source": [
    "def plusminus(a,b):\n",
    "    return a+b,a-b"
   ]
  },
  {
   "cell_type": "code",
   "execution_count": 26,
   "metadata": {},
   "outputs": [
    {
     "name": "stdout",
     "output_type": "stream",
     "text": [
      "5\n",
      "-1\n"
     ]
    }
   ],
   "source": [
    "p,m=plusminus(2,3)\n",
    "print (p)\n",
    "print (m)"
   ]
  },
  {
   "cell_type": "markdown",
   "metadata": {},
   "source": [
    "## Paraméterlista és a \"kicsomagolás\""
   ]
  },
  {
   "cell_type": "markdown",
   "metadata": {},
   "source": [
    "Előfordulhat, hogy egy függvénynek sok bemenő paramétere van, vagy hogy egy függvény bemenő paramétereit egy másik függvény eleve egy listába rendezi. Egy tipikus ilyen példa — amint azt későb látni fogjuk — a függvényillesztés esete. Ilyenkor a paramétereket tartalmazó lista \"kicsomagolásával\" — amit a \\*-jellel tehetünk meg — kompaktabb kódot érhetünk el. Vegyünk például egy olyan esetet, amikor egy adatsorra egy ötödfokú polinomot illesztünk. "
   ]
  },
  {
   "cell_type": "markdown",
   "metadata": {},
   "source": [
    "$$f(x)=a_0+a_1x+a_2x^2+a_3x^3+a_4x^4+a_5x^5$$"
   ]
  },
  {
   "cell_type": "markdown",
   "metadata": {},
   "source": [
    "Definiáljunk egy függvényt, ami egy \"futó\" $x$ változó és az ötödfokú polinomnak megfelelően hat darab \"paraméter\" $a_i$ változó segítségével kiértékeli a fenti polinomot:"
   ]
  },
  {
   "cell_type": "code",
   "execution_count": 27,
   "metadata": {
    "collapsed": true
   },
   "outputs": [],
   "source": [
    "# ez lesz az illesztendő függvény\n",
    "def poly5(x,a0,a1,a2,a3,a4,a5):\n",
    "    return a0+a1*x+a2*x**2+a3*x**3+a4*x**4+a5*x**5"
   ]
  },
  {
   "cell_type": "markdown",
   "metadata": {},
   "source": [
    "Az illesztés során hat darab illesztési paramétert határozunk meg: $a_0,a_1,a_2,a_3,a_4,a_5$, ám ezeket az illesztő program egy listába rendezve adja a kezünkbe:"
   ]
  },
  {
   "cell_type": "code",
   "execution_count": 28,
   "metadata": {
    "collapsed": true
   },
   "outputs": [],
   "source": [
    "# ezek az illesztés során meghatározott paraméterek\n",
    "# az alábbi sorrendnek megfelelően\n",
    "# params=[a0,a1,a2,a3,a4,a5]\n",
    "params=[ 2.27171539, -1.1368942 ,  0.65380304, -0.25005187, -0.1751268 , -0.48828309];"
   ]
  },
  {
   "cell_type": "markdown",
   "metadata": {},
   "source": [
    "Ha ki szeretnénk értékelni az illesztett polinomot az $x=0.3$ helyen, akkor azt megtehetjük az alábbi módon:"
   ]
  },
  {
   "cell_type": "code",
   "execution_count": 29,
   "metadata": {},
   "outputs": [
    {
     "data": {
      "text/plain": [
       "1.9801329481213"
      ]
     },
     "execution_count": 29,
     "metadata": {},
     "output_type": "execute_result"
    }
   ],
   "source": [
    "poly5(0.3,params[0],params[1],params[2],params[3],params[4],params[5])"
   ]
  },
  {
   "cell_type": "markdown",
   "metadata": {},
   "source": [
    "vagy az ennél sokkal kompaktabb módszerrel:"
   ]
  },
  {
   "cell_type": "code",
   "execution_count": 30,
   "metadata": {},
   "outputs": [
    {
     "data": {
      "text/plain": [
       "1.9801329481213"
      ]
     },
     "execution_count": 30,
     "metadata": {},
     "output_type": "execute_result"
    }
   ],
   "source": [
    "poly5(0.3,*params)"
   ]
  },
  {
   "cell_type": "markdown",
   "metadata": {},
   "source": [
    "Ez a konstrukció lehetővé teszi, hogy a függvény definiálása során felkészítsük a függvényt arra, hogy a bemenő\n",
    "paraméterek száma ne legyen rögzített. Ha a függvénydeklaráció során egy paraméter elé **\\***-t teszünk, akkor az a paraméter tetszőleges hosszúságú lehet! Vizsgáljuk meg az alábbi példát:"
   ]
  },
  {
   "cell_type": "code",
   "execution_count": 31,
   "metadata": {
    "collapsed": true
   },
   "outputs": [],
   "source": [
    "def adok_mit_kapok(*argv):                                            #Így, a *-al, készítünk fel egy függvényt \n",
    "                                                                      #változó számú paraméter fogadására\n",
    "    print(\"Nekem \",len(argv),\"db bemenő paraméterem jött\")\n",
    "    for arg in argv:\n",
    "        print (\"Ez egy paraméter :\", arg)\n",
    "    return argv[-1]                                                 #a bemenő paraméterek elemeire mint \n",
    "                                                                    #szokványos lista elemekre hivatkozunk"
   ]
  },
  {
   "cell_type": "markdown",
   "metadata": {},
   "source": [
    "A fenti blokkban definiált függvény tetszőleges számú bemenő paramétert elfogad! A futás során közli, hogy hány paraméter érkezett, kiírja azokat, illetve a paraméterlista utolsó tagját a függvény visszatérési értékének állítja be."
   ]
  },
  {
   "cell_type": "code",
   "execution_count": 32,
   "metadata": {},
   "outputs": [
    {
     "name": "stdout",
     "output_type": "stream",
     "text": [
      "Nekem  3 db bemenő paraméterem jött\n",
      "Ez egy paraméter : Gáspár\n",
      "Ez egy paraméter : Menyhért\n",
      "Ez egy paraméter : Boldizsár\n"
     ]
    },
    {
     "data": {
      "text/plain": [
       "'Boldizsár'"
      ]
     },
     "execution_count": 32,
     "metadata": {},
     "output_type": "execute_result"
    }
   ],
   "source": [
    "adok_mit_kapok('Gáspár','Menyhért','Boldizsár')"
   ]
  },
  {
   "cell_type": "markdown",
   "metadata": {},
   "source": [
    "Természetesen a tetszőleges számú paraméter helyett egy \"kicsomagolt\" tetszőleges hosszúságú listát is használhatunk!"
   ]
  },
  {
   "cell_type": "code",
   "execution_count": 33,
   "metadata": {},
   "outputs": [
    {
     "name": "stdout",
     "output_type": "stream",
     "text": [
      "Nekem  6 db bemenő paraméterem jött\n",
      "Ez egy paraméter : 2.27171539\n",
      "Ez egy paraméter : -1.1368942\n",
      "Ez egy paraméter : 0.65380304\n",
      "Ez egy paraméter : -0.25005187\n",
      "Ez egy paraméter : -0.1751268\n",
      "Ez egy paraméter : -0.48828309\n"
     ]
    },
    {
     "data": {
      "text/plain": [
       "-0.48828309"
      ]
     },
     "execution_count": 33,
     "metadata": {},
     "output_type": "execute_result"
    }
   ],
   "source": [
    "adok_mit_kapok(*params) #természetesen itt is működik a kicsomagolás.."
   ]
  },
  {
   "cell_type": "markdown",
   "metadata": {},
   "source": [
    "## Függvények kulcsszavakkal"
   ]
  },
  {
   "cell_type": "markdown",
   "metadata": {},
   "source": [
    "Azon kívül, hogy a szótárak már önmagukban is igen hasznos adatstruktúrák, később látni fogjuk, hogy sokszor függvények bizonyos paramétereit is szokás szótárakba szedni. Az ilyen paramétereket szokás kulcsszavas változóknak vagy kulcsszavas argumentumnak (angol nyelven keyword argument) hívni. Ezek használata olvashatóbbá és emberi szemmel is jóval értelmezhetőbbé teszi a programot, ezen felül további flexibilitást is ad a programozó kezébe. \n",
    "Nézzük ezt meg az alábbi példán:"
   ]
  },
  {
   "cell_type": "code",
   "execution_count": 34,
   "metadata": {
    "collapsed": true
   },
   "outputs": [],
   "source": [
    "#Így adunk meg alapértelmezett értékeket\n",
    "def students(ido, allapot='lelkesen figyelik a tanárt', tevekenyseg='kísérletezés', ora='fizika'):\n",
    "    print(\"Ezek a diákok \"+ora+\"órán \"+tevekenyseg+\" közben mindig \"+allapot+\"!\");\n",
    "    print(\"Még akkor is, ha épp \",ido,\"-t mutat az óra!\");"
   ]
  },
  {
   "cell_type": "markdown",
   "metadata": {},
   "source": [
    "A függvény első paraméterét meg kell adnunk. Ha nem adunk többet, akkor az alapértelmezett értékeket fogja használni a kulcsszavas argumentumokra:"
   ]
  },
  {
   "cell_type": "code",
   "execution_count": 35,
   "metadata": {},
   "outputs": [
    {
     "name": "stdout",
     "output_type": "stream",
     "text": [
      "Ezek a diákok fizikaórán kísérletezés közben mindig lelkesen figyelik a tanárt!\n",
      "Még akkor is, ha épp  17:00 -t mutat az óra!\n"
     ]
    }
   ],
   "source": [
    "students('17:00') "
   ]
  },
  {
   "cell_type": "markdown",
   "metadata": {},
   "source": [
    "Ha egy kulcsszavas argumentumot kap a függvény, akkor azt értelemszerűen használja:"
   ]
  },
  {
   "cell_type": "code",
   "execution_count": 36,
   "metadata": {},
   "outputs": [
    {
     "name": "stdout",
     "output_type": "stream",
     "text": [
      "Ezek a diákok fizikaórán kísérletezés közben mindig unott képet vágnak!\n",
      "Még akkor is, ha épp  8:00 -t mutat az óra!\n"
     ]
    }
   ],
   "source": [
    "students('8:00',allapot='unott képet vágnak')"
   ]
  },
  {
   "cell_type": "markdown",
   "metadata": {},
   "source": [
    "A kulcsszavas argumentumok sorrendjére nem kell figyelni:"
   ]
  },
  {
   "cell_type": "code",
   "execution_count": 37,
   "metadata": {},
   "outputs": [
    {
     "name": "stdout",
     "output_type": "stream",
     "text": [
      "Ezek a diákok ógörögórán TÉMAZÁRÓ közben mindig pánikolva izzadnak!\n",
      "Még akkor is, ha épp  8:00 -t mutat az óra!\n"
     ]
    }
   ],
   "source": [
    "students('8:00',ora='ógörög',allapot='pánikolva izzadnak',tevekenyseg='TÉMAZÁRÓ')"
   ]
  },
  {
   "cell_type": "markdown",
   "metadata": {},
   "source": [
    "Ha a deklaráció során nem használt kulcsszót adunk meg, akkor hibát kapunk:"
   ]
  },
  {
   "cell_type": "code",
   "execution_count": 38,
   "metadata": {},
   "outputs": [
    {
     "ename": "TypeError",
     "evalue": "students() got an unexpected keyword argument 'tanar'",
     "output_type": "error",
     "traceback": [
      "\u001b[0;31m---------------------------------------------------------------------------\u001b[0m",
      "\u001b[0;31mTypeError\u001b[0m                                 Traceback (most recent call last)",
      "\u001b[0;32m<ipython-input-38-7769c15fcb73>\u001b[0m in \u001b[0;36m<module>\u001b[0;34m()\u001b[0m\n\u001b[0;32m----> 1\u001b[0;31m \u001b[0mstudents\u001b[0m\u001b[0;34m(\u001b[0m\u001b[0;34m'17:00'\u001b[0m\u001b[0;34m,\u001b[0m\u001b[0mtanar\u001b[0m\u001b[0;34m=\u001b[0m\u001b[0;34m'Mici néni'\u001b[0m\u001b[0;34m)\u001b[0m\u001b[0;34m\u001b[0m\u001b[0m\n\u001b[0m",
      "\u001b[0;31mTypeError\u001b[0m: students() got an unexpected keyword argument 'tanar'"
     ]
    }
   ],
   "source": [
    "students('17:00',tanar='Mici néni')"
   ]
  },
  {
   "cell_type": "markdown",
   "metadata": {},
   "source": [
    "Hasonlóan problémába ütközünk, ha egy kulcsszót kétszer is alkalmazunk:"
   ]
  },
  {
   "cell_type": "code",
   "execution_count": 39,
   "metadata": {},
   "outputs": [
    {
     "ename": "SyntaxError",
     "evalue": "keyword argument repeated (<ipython-input-39-f0bd085991b6>, line 1)",
     "output_type": "error",
     "traceback": [
      "\u001b[0;36m  File \u001b[0;32m\"<ipython-input-39-f0bd085991b6>\"\u001b[0;36m, line \u001b[0;32m1\u001b[0m\n\u001b[0;31m    students('8:00',ora='ógörög',ora='kémia')\u001b[0m\n\u001b[0m                                   ^\u001b[0m\n\u001b[0;31mSyntaxError\u001b[0m\u001b[0;31m:\u001b[0m keyword argument repeated\n"
     ]
    }
   ],
   "source": [
    "students('8:00',ora='ógörög',ora='kémia')"
   ]
  },
  {
   "cell_type": "markdown",
   "metadata": {},
   "source": [
    "Kulcsszavas argumentumok szótárának kicsomagolása \\*\\*-jel segítségével történik:"
   ]
  },
  {
   "cell_type": "code",
   "execution_count": 40,
   "metadata": {},
   "outputs": [
    {
     "name": "stdout",
     "output_type": "stream",
     "text": [
      "Ezek a diákok énekórán kísérletezés közben mindig nyüszítenek!\n",
      "Még akkor is, ha épp  12 -t mutat az óra!\n"
     ]
    }
   ],
   "source": [
    "diak_hozzaallas={'ora':'ének','allapot':'nyüszítenek'};\n",
    "students(12,**diak_hozzaallas)"
   ]
  },
  {
   "cell_type": "markdown",
   "metadata": {},
   "source": [
    "Amint a sima paramétereknél is, itt is előfordulhat az, hogy tetszőleges hosszúságú dict-et szeretnénk feldolgozni. Erre példa, ha egy olyan függvényt írunk, amely esetleg több más függvényt hív, melyeknek tovább akarjuk adni a bejövő paraméterek egy részét. \n",
    "\n",
    "Az alábbi függvény egy tetszőleges szótárat vár a bemenetre, megnézi, hogy milyen hosszú, és ha a szótárban van 'hamburger' címkéjű kulcsszó, akkor annak az értékét adja vissza:"
   ]
  },
  {
   "cell_type": "code",
   "execution_count": 41,
   "metadata": {
    "collapsed": true
   },
   "outputs": [],
   "source": [
    "def kulcsot_adok_amit_kapok(**szotar):\n",
    "    print('A szótár hossza:',len(szotar))\n",
    "    if 'hamburger' in szotar:\n",
    "        print('Van hamburger!')\n",
    "        return szotar['hamburger']"
   ]
  },
  {
   "cell_type": "code",
   "execution_count": 42,
   "metadata": {},
   "outputs": [
    {
     "name": "stdout",
     "output_type": "stream",
     "text": [
      "A szótár hossza: 2\n"
     ]
    }
   ],
   "source": [
    "kulcsot_adok_amit_kapok(makaróni=1,torta='finom') #itt már nem jelent hibát ha előre meg nem határozott kulcsszavaink vannak!"
   ]
  },
  {
   "cell_type": "code",
   "execution_count": 43,
   "metadata": {},
   "outputs": [
    {
     "name": "stdout",
     "output_type": "stream",
     "text": [
      "A szótár hossza: 4\n",
      "Van hamburger!\n"
     ]
    },
    {
     "data": {
      "text/plain": [
       "137"
      ]
     },
     "execution_count": 43,
     "metadata": {},
     "output_type": "execute_result"
    }
   ],
   "source": [
    "kaja={'makaróni':1,'torta':'finom','hamburger':137,'saláta':'nincs'}\n",
    "kulcsot_adok_amit_kapok(**kaja) "
   ]
  },
  {
   "cell_type": "markdown",
   "metadata": {},
   "source": [
    "## Általános függvénydeklarációs szokások"
   ]
  },
  {
   "cell_type": "markdown",
   "metadata": {},
   "source": [
    "Amint azt a fentiekben láttuk, függvényeknek többféleképpen is adhatunk paramétereket:\n",
    "\n",
    "1. változók (ezek lehetnek sima változók, meghatározott hosszúságú listák, vagy akár kulcsszavas változók is);\n",
    "2. előre meg nem határozott hosszúságú változó lista;\n",
    "3. kulcsszavas változók tetszőleges hosszú listája.\n",
    "\n",
    "Sokszor előfordul, hogy egy függvénynek mind a négy fajta bemenete is lehet. Illetve hogy néhány változónak alapértelmezett értéket is adunk. Függvények definiálásánál használjuk a fenti sorrendet!\n",
    "\n",
    "Például:"
   ]
  },
  {
   "cell_type": "code",
   "execution_count": 44,
   "metadata": {},
   "outputs": [],
   "source": [
    "def bonyolult_fuggveny(valtozo1,valtozo2,valtozo3='ELZETT',*args,**kwargs):\n",
    "    if ((len(args)==0 and len(kwargs)==0)):\n",
    "        return valtozo3+str(valtozo2)+str(valtozo1)\n",
    "    elif (len(args)!=0 and len(kwargs)==0):\n",
    "        return 'Van valami az args-ban!'\n",
    "    elif (len(args)==0 and len(kwargs)!=0):\n",
    "        return 'Van valami az kwargs-ban!'\n",
    "    else:\n",
    "        return 'Mindenféle változónk van:'+str(valtozo1)+str(valtozo2)+valtozo3+str(args)+str(kwargs)"
   ]
  },
  {
   "cell_type": "markdown",
   "metadata": {
    "collapsed": true
   },
   "source": [
    "A fenti függvény első két változója \"sima\" változó, a harmadik egy kulcsszavas változó az alapértelmezett 'ELZETT' értékkel, és ezen kívül megengedünk még egyéb tetszőleges hosszú \"sima\" változók listáját (args), illetve tetszőleges hosszú kulcsszavas változók listáját (kwargs). Nézzük meg hogy a notebook során korábban definiált változókat felhasználva milyen viselkedést mutat a fent deklarált függvény:"
   ]
  },
  {
   "cell_type": "code",
   "execution_count": 45,
   "metadata": {},
   "outputs": [
    {
     "data": {
      "text/plain": [
       "'ELZETT21'"
      ]
     },
     "execution_count": 45,
     "metadata": {},
     "output_type": "execute_result"
    }
   ],
   "source": [
    "bonyolult_fuggveny(1,2)"
   ]
  },
  {
   "cell_type": "code",
   "execution_count": 46,
   "metadata": {},
   "outputs": [
    {
     "data": {
      "text/plain": [
       "'MULTLOCK21'"
      ]
     },
     "execution_count": 46,
     "metadata": {},
     "output_type": "execute_result"
    }
   ],
   "source": [
    "bonyolult_fuggveny(1,2,valtozo3='MULTLOCK')"
   ]
  },
  {
   "cell_type": "code",
   "execution_count": 47,
   "metadata": {},
   "outputs": [
    {
     "data": {
      "text/plain": [
       "'Van valami az args-ban!'"
      ]
     },
     "execution_count": 47,
     "metadata": {},
     "output_type": "execute_result"
    }
   ],
   "source": [
    "bonyolult_fuggveny(1,2,*days_of_the_week)"
   ]
  },
  {
   "cell_type": "code",
   "execution_count": 48,
   "metadata": {},
   "outputs": [
    {
     "data": {
      "text/plain": [
       "'Van valami az kwargs-ban!'"
      ]
     },
     "execution_count": 48,
     "metadata": {},
     "output_type": "execute_result"
    }
   ],
   "source": [
    "bonyolult_fuggveny(1,2,**kaja)"
   ]
  },
  {
   "cell_type": "code",
   "execution_count": 49,
   "metadata": {},
   "outputs": [
    {
     "data": {
      "text/plain": [
       "\"Mindenféle változónk van:12Sunday('Monday', 'Tuesday', 'Wednesday', 'Thursday', 'Friday', 'Saturday'){'hamburger': 137, 'torta': 'finom', 'saláta': 'nincs', 'makaróni': 1}\""
      ]
     },
     "execution_count": 49,
     "metadata": {},
     "output_type": "execute_result"
    }
   ],
   "source": [
    "bonyolult_fuggveny(1,2,*days_of_the_week,**kaja)"
   ]
  },
  {
   "cell_type": "markdown",
   "metadata": {},
   "source": [
    "## A [Lambda](http://www.secnetix.de/olli/Python/lambda_functions.hawk)-formák \n",
    "\n",
    "Egy függvénynek nemcsak változókat, hanem más függvényeket is megadhatunk bemenetként. Például gondolhatunk egy olyan függvényre, ami egy matematikai függvényt ábrázol! \n",
    "Ilyen esetekben, amikor egy függvény a bemenetére másik függvényt vár, sokszor előfordul, hogy hosszadalmas külön definiálni a bemeneti függvényt. Ekkor tömörebb használni az úgynevezett `lambda`-formákat.\n",
    "Nézzünk erre egy példát! Definiáljunk egy függvényt, ami egy másik függvényt értékel ki egy adott helyen, kiírja a kiértékelési helyet, és visszatér a kiértékelt függvényértékkel:"
   ]
  },
  {
   "cell_type": "code",
   "execution_count": 50,
   "metadata": {
    "collapsed": true
   },
   "outputs": [],
   "source": [
    "def funfun(g,x):\n",
    "    print('Ez volt az x változó: ',x)\n",
    "    return g(x)"
   ]
  },
  {
   "cell_type": "code",
   "execution_count": 51,
   "metadata": {},
   "outputs": [
    {
     "name": "stdout",
     "output_type": "stream",
     "text": [
      "Ez volt az x változó:  0.1\n"
     ]
    },
    {
     "data": {
      "text/plain": [
       "-9.99"
      ]
     },
     "execution_count": 51,
     "metadata": {},
     "output_type": "execute_result"
    }
   ],
   "source": [
    "def fx(x):\n",
    "    return x**2-1/x;\n",
    "funfun(fx,0.1)"
   ]
  },
  {
   "cell_type": "markdown",
   "metadata": {},
   "source": [
    "Ekkor egy úgynevezett `lambda`-forma segítségével alkalmazhatjuk az ennél kicsivel kompaktabb kifejezést (megúszva a függvénydeklarációt):"
   ]
  },
  {
   "cell_type": "code",
   "execution_count": 52,
   "metadata": {},
   "outputs": [
    {
     "name": "stdout",
     "output_type": "stream",
     "text": [
      "Ez volt az x változó:  0.1\n"
     ]
    },
    {
     "data": {
      "text/plain": [
       "-9.99"
      ]
     },
     "execution_count": 52,
     "metadata": {},
     "output_type": "execute_result"
    }
   ],
   "source": [
    "funfun(lambda x:x**2-1/x,0.1)"
   ]
  },
  {
   "cell_type": "markdown",
   "metadata": {},
   "source": [
    "A fenti kifejezésben a \n",
    ">```Python\n",
    "lambda x:x**2-1/x\n",
    "```\n",
    "\n",
    "kódrészlet egy \"anonim\" függvényt definiál, amely az $x$ változóhoz hozzárendeli az $x^2-1/x$-et."
   ]
  },
  {
   "cell_type": "markdown",
   "metadata": {},
   "source": [
    "A `lambda`-kifejezésekkel lehet többváltozós függvényeket is definiálni. Például az alábbi\n",
    ">```python\n",
    "lambda x,y:x**2-1/y\n",
    "```\n",
    "\n",
    "kifejezés a\n",
    "\n",
    ">```python\n",
    "def fxy(x,y):\n",
    "    return x**2-1/y\n",
    "```\n",
    "\n",
    "függvénnyel ekvivalens."
   ]
  }
 ],
 "metadata": {
  "anaconda-cloud": {},
  "hide_input": false,
  "kernelspec": {
   "display_name": "Python 3",
   "language": "python",
   "name": "python3"
  },
  "language_info": {
   "codemirror_mode": {
    "name": "ipython",
    "version": 3
   },
   "file_extension": ".py",
   "mimetype": "text/x-python",
   "name": "python",
   "nbconvert_exporter": "python",
   "pygments_lexer": "ipython3",
   "version": "3.5.2"
  },
  "latex_envs": {
   "bibliofile": "biblio.bib",
   "cite_by": "apalike",
   "current_citInitial": 1,
   "eqLabelWithNumbers": true,
   "eqNumInitial": 0
  },
  "name": "python-bevezeto.ipynb",
  "toc": {
   "toc_cell": false,
   "toc_number_sections": true,
   "toc_threshold": 6,
   "toc_window_display": false
  }
 },
 "nbformat": 4,
 "nbformat_minor": 1
}
